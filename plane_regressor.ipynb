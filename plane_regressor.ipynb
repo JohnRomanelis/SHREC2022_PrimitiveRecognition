{
 "cells": [
  {
   "cell_type": "markdown",
   "id": "dc6c0af7",
   "metadata": {},
   "source": [
    "## Creating a Regressor for the plane class"
   ]
  },
  {
   "cell_type": "code",
   "execution_count": 1,
   "id": "ba93f34e",
   "metadata": {},
   "outputs": [],
   "source": [
    "# imports\n",
    "from dataset import SHREC2022Primitives\n",
    "from networks import MinkowskiFCNN\n",
    "import transforms as t\n",
    "from losses import Losses\n",
    "import MinkowskiEngine as ME\n",
    "\n",
    "\n",
    "import torch\n",
    "from torch.utils.data import DataLoader\n",
    "from tqdm import tqdm\n",
    "import os"
   ]
  },
  {
   "cell_type": "code",
   "execution_count": 2,
   "id": "60ab5db8",
   "metadata": {},
   "outputs": [],
   "source": [
    "# configuration & hyperparameters\n",
    "path = \"/home/ioannis/Desktop/programming/data/SHREC/SHREC2022/dataset\"\n",
    "batch_size = 128\n",
    "lr=1e-3\n",
    "num_epochs = 20\n",
    "eval_step = 1000000000"
   ]
  },
  {
   "cell_type": "code",
   "execution_count": 3,
   "id": "fa75f9c8",
   "metadata": {},
   "outputs": [],
   "source": [
    "def minkowski_collate(list_data):\n",
    "    coordinates, features, labels = ME.utils.sparse_collate(\n",
    "        [d['x'] for d in list_data],\n",
    "        [d['x'] for d in list_data],\n",
    "        [d['y'].unsqueeze(0) for d in list_data],\n",
    "        dtype = torch.float32\n",
    "    )\n",
    "    \n",
    "    # collating other data\n",
    "    norm_factors = []\n",
    "    shifts = []\n",
    "    inv_rotations = []\n",
    "    means = []\n",
    "    \n",
    "    for d in list_data:\n",
    "        norm_factors.append(d['norm_factor'])\n",
    "        shifts.append(d['shift'])\n",
    "        if 'inverse_rotation' in d.keys():\n",
    "            inv_rotations.append(d['inverse_rotation'])\n",
    "        means.append(d['mean'])\n",
    "        \n",
    "    norm_factors = torch.stack(norm_factors)\n",
    "    shifts = torch.stack(shifts)\n",
    "    \n",
    "    if len(inv_rotations) > 0:\n",
    "        inv_rotations = torch.stack(inv_rotations)\n",
    "    \n",
    "    means = torch.stack(means)\n",
    "    \n",
    "    return {\n",
    "        \"coordinates\"   : coordinates, \n",
    "        \"features\"      : features,\n",
    "        \"labels\"        : labels,\n",
    "        \"means\"         : means,\n",
    "        \"norm_factors\"  : norm_factors,\n",
    "        \"shifts\"        : shifts,\n",
    "        \"inv_rotations\" : inv_rotations if len(inv_rotations) > 0 else None\n",
    "    }"
   ]
  },
  {
   "cell_type": "code",
   "execution_count": 4,
   "id": "562ae1a4",
   "metadata": {},
   "outputs": [
    {
     "name": "stdout",
     "output_type": "stream",
     "text": [
      "Specified split already exists. Using the existing one.\n",
      "Specified split already exists. Using the existing one.\n"
     ]
    }
   ],
   "source": [
    "# Dataset and dataloader\n",
    "train_transforms = [t.Translate(), \n",
    "                    t.SphereNormalization(), \n",
    "                    t.Initialization(),\n",
    "                    t.RandomRotate(180, 0),\n",
    "                    t.RandomRotate(180, 1),\n",
    "                    t.RandomRotate(180, 2),\n",
    "                    t.GaussianNoise(),\n",
    "                    t.GetMean()]\n",
    "\n",
    "valid_transforms = [t.Translate(), \n",
    "                    t.SphereNormalization()]\n",
    "\n",
    "t_dataset = SHREC2022Primitives(path, \n",
    "                                train=True, \n",
    "                                valid=False, \n",
    "                                valid_split=0.2, \n",
    "                                transform=train_transforms,\n",
    "                                category=\"plane\")\n",
    "\n",
    "train_loader = DataLoader(t_dataset, \n",
    "                          batch_size=batch_size, \n",
    "                          shuffle=True, \n",
    "                          collate_fn=minkowski_collate, \n",
    "                         num_workers=8)\n",
    "\n",
    "v_dataset = SHREC2022Primitives(path, \n",
    "                                train=True, \n",
    "                                valid=True, \n",
    "                                valid_split=0.2, \n",
    "                                transform=valid_transforms,\n",
    "                                category=\"plane\")\n",
    "\n",
    "valid_loader = DataLoader(v_dataset, \n",
    "                          batch_size=batch_size, \n",
    "                          shuffle=False, \n",
    "                          collate_fn=minkowski_collate, \n",
    "                          num_workers=8)\n"
   ]
  },
  {
   "cell_type": "code",
   "execution_count": 5,
   "id": "3552643a",
   "metadata": {},
   "outputs": [
    {
     "name": "stdout",
     "output_type": "stream",
     "text": [
      "Using device: cuda:0\n"
     ]
    }
   ],
   "source": [
    "# network and device\n",
    "device = torch.device('cuda:0' if torch.cuda.is_available() else 'cpu')\n",
    "print(f\"Using device: {device}\")\n",
    "\n",
    "net = net = MinkowskiFCNN(in_channel = 3, out_channel = 3).to(device)"
   ]
  },
  {
   "cell_type": "code",
   "execution_count": 6,
   "id": "b266f538",
   "metadata": {},
   "outputs": [],
   "source": [
    "def create_input_batch(batch, device=\"cuda\", quantization_size=0.05):\n",
    "    batch[\"coordinates\"][:, 1:] = batch[\"coordinates\"][:, 1:] / quantization_size\n",
    "    return ME.TensorField(\n",
    "        coordinates=batch[\"coordinates\"],\n",
    "        features=batch[\"features\"],\n",
    "        device=device\n",
    "    )"
   ]
  },
  {
   "cell_type": "code",
   "execution_count": 7,
   "id": "a7ac5fbd",
   "metadata": {},
   "outputs": [],
   "source": [
    "def transform_outputs(output, scale, shift, rotation_mat=None):\n",
    "    \n",
    "    #output: B x 9\n",
    "    #scale: B x 1\n",
    "    #shift: B x 3\n",
    "    #rotation_mat: B x 3 x 3\n",
    "    \n",
    "    scale = scale.to(output.device).unsqueeze(-1)\n",
    "    shift = shift.to(output.device)\n",
    "    \n",
    "    normal = output[:,0:3]\n",
    "    vertex = output[:,3:]\n",
    "    if rotation_mat is not None:\n",
    "        rotation_mat = rotation_mat.to(output.device)\n",
    "        #applying inverse rotation to normal vectors\n",
    "        normal = (rotation_mat @ normal.unsqueeze(-1)).squeeze(-1)\n",
    "    #applying inverse rotation, scaling and translation to vertices\n",
    "        vertex = (rotation_mat @ vertex.unsqueeze(-1)).squeeze(-1)\n",
    "    vertex = vertex * scale\n",
    "    vertex = vertex - shift\n",
    "    \n",
    "    return normal, vertex\n",
    "\n",
    "\n",
    "def transform_plane_outputs(plane_pred, trans):\n",
    "        \n",
    "        #plane_pred: B x 6\n",
    "        #scale: B x 1\n",
    "        #shift: B x 3\n",
    "        #rotation_mat: B x 3 x 3\n",
    "\n",
    "        #print(plane_pred.shape)\n",
    "        \n",
    "        \n",
    "        scale, shift, rotation_mat = trans[\"norm_factors\"], trans[\"shifts\"], trans[\"inv_rotations\"]\n",
    "        \n",
    "        #print(scale.shape)\n",
    "        #print(shift.shape)\n",
    "        #print(rotation_mat.shape)\n",
    "        \n",
    "        scale = scale.to(plane_pred.device).unsqueeze(-1)\n",
    "        shift = shift.to(plane_pred.device)\n",
    "        \n",
    "        normal = plane_pred[:,0:3]\n",
    "        vertex = plane_pred[:,3:]\n",
    "        if rotation_mat is not None:\n",
    "            rotation_mat = rotation_mat.to(plane_pred.device)\n",
    "            #applying inverse rotation to normal vectors\n",
    "            normal = (rotation_mat @ normal.unsqueeze(-1)).squeeze(-1)\n",
    "        #applying inverse rotation, scaling and translation to vertices\n",
    "            vertex = (rotation_mat @ vertex.unsqueeze(-1)).squeeze(-1)\n",
    "        vertex = vertex * scale\n",
    "        vertex = vertex - shift\n",
    "        \n",
    "        return normal, vertex"
   ]
  },
  {
   "cell_type": "code",
   "execution_count": 8,
   "id": "86361d14",
   "metadata": {},
   "outputs": [],
   "source": [
    "# optimizer and losses\n",
    "optimizer = torch.optim.Adam(net.parameters(), lr=lr)\n",
    "criterion = Losses()"
   ]
  },
  {
   "cell_type": "code",
   "execution_count": 9,
   "id": "b4dba2a1",
   "metadata": {},
   "outputs": [
    {
     "name": "stderr",
     "output_type": "stream",
     "text": [
      "100%|██████████| 58/58 [00:14<00:00,  4.04it/s]\n"
     ]
    },
    {
     "name": "stdout",
     "output_type": "stream",
     "text": [
      " Epoch: 0 | Training: loss = 0.1597797566189848\n",
      " Normal loss: 0.13015334455874458 | Vertex_loss: 0.0296264108398865\n"
     ]
    },
    {
     "name": "stderr",
     "output_type": "stream",
     "text": [
      " 72%|███████▏  | 42/58 [00:11<00:04,  3.53it/s]\n"
     ]
    },
    {
     "ename": "KeyboardInterrupt",
     "evalue": "",
     "output_type": "error",
     "traceback": [
      "\u001b[0;31m---------------------------------------------------------------------------\u001b[0m",
      "\u001b[0;31mKeyboardInterrupt\u001b[0m                         Traceback (most recent call last)",
      "\u001b[0;32m<ipython-input-9-ba7e55698563>\u001b[0m in \u001b[0;36m<module>\u001b[0;34m\u001b[0m\n\u001b[1;32m     25\u001b[0m         )\n\u001b[1;32m     26\u001b[0m \u001b[0;34m\u001b[0m\u001b[0m\n\u001b[0;32m---> 27\u001b[0;31m         \u001b[0mpred\u001b[0m \u001b[0;34m=\u001b[0m \u001b[0mnet\u001b[0m\u001b[0;34m(\u001b[0m\u001b[0mminknet_input\u001b[0m\u001b[0;34m)\u001b[0m\u001b[0;34m\u001b[0m\u001b[0;34m\u001b[0m\u001b[0m\n\u001b[0m\u001b[1;32m     28\u001b[0m         \u001b[0;31m#print(batch.keys())\u001b[0m\u001b[0;34m\u001b[0m\u001b[0;34m\u001b[0m\u001b[0;34m\u001b[0m\u001b[0m\n\u001b[1;32m     29\u001b[0m         \u001b[0mpred_vertex\u001b[0m \u001b[0;34m=\u001b[0m \u001b[0mbatch\u001b[0m\u001b[0;34m[\u001b[0m\u001b[0;34m'means'\u001b[0m\u001b[0;34m]\u001b[0m\u001b[0;34m.\u001b[0m\u001b[0mto\u001b[0m\u001b[0;34m(\u001b[0m\u001b[0mdevice\u001b[0m\u001b[0;34m)\u001b[0m\u001b[0;34m\u001b[0m\u001b[0;34m\u001b[0m\u001b[0m\n",
      "\u001b[0;32m~/anaconda3/envs/vvrenv/lib/python3.8/site-packages/torch/nn/modules/module.py\u001b[0m in \u001b[0;36m_call_impl\u001b[0;34m(self, *input, **kwargs)\u001b[0m\n\u001b[1;32m   1100\u001b[0m         if not (self._backward_hooks or self._forward_hooks or self._forward_pre_hooks or _global_backward_hooks\n\u001b[1;32m   1101\u001b[0m                 or _global_forward_hooks or _global_forward_pre_hooks):\n\u001b[0;32m-> 1102\u001b[0;31m             \u001b[0;32mreturn\u001b[0m \u001b[0mforward_call\u001b[0m\u001b[0;34m(\u001b[0m\u001b[0;34m*\u001b[0m\u001b[0minput\u001b[0m\u001b[0;34m,\u001b[0m \u001b[0;34m**\u001b[0m\u001b[0mkwargs\u001b[0m\u001b[0;34m)\u001b[0m\u001b[0;34m\u001b[0m\u001b[0;34m\u001b[0m\u001b[0m\n\u001b[0m\u001b[1;32m   1103\u001b[0m         \u001b[0;31m# Do not call functions when jit is used\u001b[0m\u001b[0;34m\u001b[0m\u001b[0;34m\u001b[0m\u001b[0;34m\u001b[0m\u001b[0m\n\u001b[1;32m   1104\u001b[0m         \u001b[0mfull_backward_hooks\u001b[0m\u001b[0;34m,\u001b[0m \u001b[0mnon_full_backward_hooks\u001b[0m \u001b[0;34m=\u001b[0m \u001b[0;34m[\u001b[0m\u001b[0;34m]\u001b[0m\u001b[0;34m,\u001b[0m \u001b[0;34m[\u001b[0m\u001b[0;34m]\u001b[0m\u001b[0;34m\u001b[0m\u001b[0;34m\u001b[0m\u001b[0m\n",
      "\u001b[0;32m~/Desktop/programming/phd/SHREC/SHREC2022/networks/minkfcnn.py\u001b[0m in \u001b[0;36mforward\u001b[0;34m(self, x)\u001b[0m\n\u001b[1;32m    147\u001b[0m         \u001b[0mx\u001b[0m \u001b[0;34m=\u001b[0m \u001b[0mME\u001b[0m\u001b[0;34m.\u001b[0m\u001b[0mcat\u001b[0m\u001b[0;34m(\u001b[0m\u001b[0mx1\u001b[0m\u001b[0;34m,\u001b[0m \u001b[0mx2\u001b[0m\u001b[0;34m,\u001b[0m \u001b[0mx3\u001b[0m\u001b[0;34m,\u001b[0m \u001b[0mx4\u001b[0m\u001b[0;34m)\u001b[0m\u001b[0;34m\u001b[0m\u001b[0;34m\u001b[0m\u001b[0m\n\u001b[1;32m    148\u001b[0m \u001b[0;34m\u001b[0m\u001b[0m\n\u001b[0;32m--> 149\u001b[0;31m         \u001b[0my\u001b[0m \u001b[0;34m=\u001b[0m \u001b[0mself\u001b[0m\u001b[0;34m.\u001b[0m\u001b[0mconv5\u001b[0m\u001b[0;34m(\u001b[0m\u001b[0mx\u001b[0m\u001b[0;34m.\u001b[0m\u001b[0msparse\u001b[0m\u001b[0;34m(\u001b[0m\u001b[0;34m)\u001b[0m\u001b[0;34m)\u001b[0m\u001b[0;34m\u001b[0m\u001b[0;34m\u001b[0m\u001b[0m\n\u001b[0m\u001b[1;32m    150\u001b[0m         \u001b[0mx1\u001b[0m \u001b[0;34m=\u001b[0m \u001b[0mself\u001b[0m\u001b[0;34m.\u001b[0m\u001b[0mglobal_max_pool\u001b[0m\u001b[0;34m(\u001b[0m\u001b[0my\u001b[0m\u001b[0;34m)\u001b[0m\u001b[0;34m\u001b[0m\u001b[0;34m\u001b[0m\u001b[0m\n\u001b[1;32m    151\u001b[0m         \u001b[0mx2\u001b[0m \u001b[0;34m=\u001b[0m \u001b[0mself\u001b[0m\u001b[0;34m.\u001b[0m\u001b[0mglobal_avg_pool\u001b[0m\u001b[0;34m(\u001b[0m\u001b[0my\u001b[0m\u001b[0;34m)\u001b[0m\u001b[0;34m\u001b[0m\u001b[0;34m\u001b[0m\u001b[0m\n",
      "\u001b[0;32m~/anaconda3/envs/vvrenv/lib/python3.8/site-packages/MinkowskiEngine/MinkowskiTensorField.py\u001b[0m in \u001b[0;36msparse\u001b[0;34m(self, tensor_stride, coordinate_map_key, quantization_mode)\u001b[0m\n\u001b[1;32m    352\u001b[0m             )\n\u001b[1;32m    353\u001b[0m             \u001b[0msize\u001b[0m \u001b[0;34m=\u001b[0m \u001b[0mtorch\u001b[0m\u001b[0;34m.\u001b[0m\u001b[0mSize\u001b[0m\u001b[0;34m(\u001b[0m\u001b[0;34m[\u001b[0m\u001b[0mN_rows\u001b[0m\u001b[0;34m,\u001b[0m \u001b[0mlen\u001b[0m\u001b[0;34m(\u001b[0m\u001b[0minverse_mapping\u001b[0m\u001b[0;34m)\u001b[0m\u001b[0;34m]\u001b[0m\u001b[0;34m)\u001b[0m\u001b[0;34m\u001b[0m\u001b[0;34m\u001b[0m\u001b[0m\n\u001b[0;32m--> 354\u001b[0;31m             features = MinkowskiSPMMAverageFunction().apply(\n\u001b[0m\u001b[1;32m    355\u001b[0m                 \u001b[0minverse_mapping\u001b[0m\u001b[0;34m,\u001b[0m \u001b[0mcols\u001b[0m\u001b[0;34m,\u001b[0m \u001b[0msize\u001b[0m\u001b[0;34m,\u001b[0m \u001b[0mself\u001b[0m\u001b[0;34m.\u001b[0m\u001b[0m_F\u001b[0m\u001b[0;34m\u001b[0m\u001b[0;34m\u001b[0m\u001b[0m\n\u001b[1;32m    356\u001b[0m             )\n",
      "\u001b[0;32m~/anaconda3/envs/vvrenv/lib/python3.8/site-packages/MinkowskiEngine/sparse_matrix_functions.py\u001b[0m in \u001b[0;36mforward\u001b[0;34m(ctx, rows, cols, size, mat, cuda_spmm_alg)\u001b[0m\n\u001b[1;32m    181\u001b[0m     ):\n\u001b[1;32m    182\u001b[0m         \u001b[0mctx\u001b[0m\u001b[0;34m.\u001b[0m\u001b[0mmisc_args\u001b[0m \u001b[0;34m=\u001b[0m \u001b[0msize\u001b[0m\u001b[0;34m,\u001b[0m \u001b[0mcuda_spmm_alg\u001b[0m\u001b[0;34m\u001b[0m\u001b[0;34m\u001b[0m\u001b[0m\n\u001b[0;32m--> 183\u001b[0;31m         result, COO, vals = spmm_average(\n\u001b[0m\u001b[1;32m    184\u001b[0m             \u001b[0mrows\u001b[0m\u001b[0;34m,\u001b[0m\u001b[0;34m\u001b[0m\u001b[0;34m\u001b[0m\u001b[0m\n\u001b[1;32m    185\u001b[0m             \u001b[0mcols\u001b[0m\u001b[0;34m,\u001b[0m\u001b[0;34m\u001b[0m\u001b[0;34m\u001b[0m\u001b[0m\n",
      "\u001b[0;32m~/anaconda3/envs/vvrenv/lib/python3.8/site-packages/MinkowskiEngine/sparse_matrix_functions.py\u001b[0m in \u001b[0;36mspmm_average\u001b[0;34m(rows, cols, size, mat, cuda_spmm_alg)\u001b[0m\n\u001b[1;32m     91\u001b[0m         \u001b[0mrows\u001b[0m \u001b[0;34m=\u001b[0m \u001b[0mrows\u001b[0m\u001b[0;34m.\u001b[0m\u001b[0mint\u001b[0m\u001b[0;34m(\u001b[0m\u001b[0;34m)\u001b[0m\u001b[0;34m\u001b[0m\u001b[0;34m\u001b[0m\u001b[0m\n\u001b[1;32m     92\u001b[0m         \u001b[0mcols\u001b[0m \u001b[0;34m=\u001b[0m \u001b[0mcols\u001b[0m\u001b[0;34m.\u001b[0m\u001b[0mint\u001b[0m\u001b[0;34m(\u001b[0m\u001b[0;34m)\u001b[0m\u001b[0;34m\u001b[0m\u001b[0;34m\u001b[0m\u001b[0m\n\u001b[0;32m---> 93\u001b[0;31m         result, COO, vals = MEB.coo_spmm_average_int32(\n\u001b[0m\u001b[1;32m     94\u001b[0m             \u001b[0mrows\u001b[0m\u001b[0;34m,\u001b[0m \u001b[0mcols\u001b[0m\u001b[0;34m,\u001b[0m \u001b[0msize\u001b[0m\u001b[0;34m[\u001b[0m\u001b[0;36m0\u001b[0m\u001b[0;34m]\u001b[0m\u001b[0;34m,\u001b[0m \u001b[0msize\u001b[0m\u001b[0;34m[\u001b[0m\u001b[0;36m1\u001b[0m\u001b[0;34m]\u001b[0m\u001b[0;34m,\u001b[0m \u001b[0mmat\u001b[0m\u001b[0;34m,\u001b[0m \u001b[0mcuda_spmm_alg\u001b[0m\u001b[0;34m\u001b[0m\u001b[0;34m\u001b[0m\u001b[0m\n\u001b[1;32m     95\u001b[0m         )\n",
      "\u001b[0;31mKeyboardInterrupt\u001b[0m: "
     ]
    }
   ],
   "source": [
    "# Training loop\n",
    "\n",
    "for epoch in range(num_epochs):\n",
    "    # for loss and accuracy tracking the training set\n",
    "    m_loss = 0\n",
    "    m_vertex_loss = 0\n",
    "    m_normal_loss = 0\n",
    "    \n",
    "    for batch in tqdm(train_loader):\n",
    "\n",
    "        optimizer.zero_grad()\n",
    "\n",
    "        labels = batch[\"labels\"].to(device)\n",
    "        classes = labels[:,0].sum()\n",
    "\n",
    "        actual_normal = labels[:,1:4]\n",
    "        actual_vertex = labels[:,4:7]\n",
    "         \n",
    "        batch_size = labels.shape[0]\n",
    "\n",
    "        minknet_input = create_input_batch(\n",
    "            batch, \n",
    "            device=device,\n",
    "            quantization_size=0.05\n",
    "        )\n",
    "\n",
    "        pred = net(minknet_input)\n",
    "        #print(batch.keys())\n",
    "        pred_vertex = batch['means'].to(device)    \n",
    "        #print(pred.shape)\n",
    "        #print(pred_vertex.shape)\n",
    "        pred = torch.cat([pred, pred_vertex], dim=-1)\n",
    "        \n",
    "        pred_normal, pred_vertex = transform_plane_outputs(pred, \n",
    "                                    {\"norm_factors\" : batch[\"norm_factors\"], \n",
    "                                     \"shifts\"       : batch[\"shifts\"], \n",
    "                                     \"inv_rotations\": batch[\"inv_rotations\"]})\n",
    "        \n",
    "        normal_loss = criterion.AxisToAxisLoss(pred_normal, actual_normal)\n",
    "        vertex_loss = criterion.PointToPlaneLoss(pred_vertex, actual_vertex, actual_normal)\n",
    "        \n",
    "#         print(normal_loss)\n",
    "#         print(vertex_loss)\n",
    "                \n",
    "        loss = normal_loss.mean() + vertex_loss.mean()\n",
    "        loss.backward()\n",
    "        optimizer.step()\n",
    "        \n",
    "        m_normal_loss += normal_loss.mean().item()\n",
    "        m_vertex_loss += vertex_loss.mean().item()\n",
    "        m_loss += loss.item()\n",
    "\n",
    "    m_loss /= len(train_loader)\n",
    "    m_normal_loss /= len(train_loader)\n",
    "    m_vertex_loss /= len(train_loader)\n",
    "    \n",
    "    print(f\" Epoch: {epoch} | Training: loss = {m_loss}\")\n",
    "    print(f\" Normal loss: {m_normal_loss} | Vertex_loss: {m_vertex_loss}\")\n",
    "   \n",
    "\n",
    "print(\"Done!\")"
   ]
  },
  {
   "cell_type": "code",
   "execution_count": null,
   "id": "59f4a30d",
   "metadata": {},
   "outputs": [],
   "source": [
    "'''\n",
    "    if (epoch+1) % eval_step == 0:\n",
    "        m_loss = 0\n",
    "        m_normal_loss = 0\n",
    "        m_vertex_loss = 0\n",
    "        net.eval()\n",
    "        with torch.no_grad():\n",
    "            for batch in tqdm(valid_loader):\n",
    "\n",
    "                labels = batch[\"labels\"].to(device)\n",
    "                actual_normal = labels[:,1:4]\n",
    "                actual_vertex = labels[:,4:7]\n",
    "                batch_size = labels.shape[0]\n",
    "                \n",
    "                net_in = create_input_batch(\n",
    "                    batch, \n",
    "                    device=device, \n",
    "                    quantization_size=0.05\n",
    "                )\n",
    "\n",
    "                pred = net(net_in)\n",
    "              \n",
    "                pred_normal, pred_vertex = transform_outputs(pred, \n",
    "                                                     batch[\"norm_factors\"], \n",
    "                                                     batch[\"shifts\"], \n",
    "                                                     batch[\"inv_rotations\"])\n",
    "\n",
    "                normal_loss = criterion.AxisToAxisLoss(pred_normal, actual_normal)\n",
    "                vertex_loss = criterion.PointToPlaneLoss(pred_vertex, actual_vertex, actual_normal)\n",
    "\n",
    "                loss = normal_loss + vertex_loss\n",
    "          \n",
    "                m_normal_loss += normal_loss.item()\n",
    "                m_vertex_loss += vertex_loss.item()\n",
    "                m_loss += loss.item()\n",
    "                \n",
    "            m_loss /= len(valid_loader)\n",
    "            m_normal_loss /= len(valid_loader)\n",
    "            m_vertex_loss /= len(valid_loader)\n",
    "\n",
    "            print(f\" --------->  Evaluation: loss = {m_loss}\")\n",
    "            print(f\" Normal loss: {m_normal_loss} | Vertex_loss: {m_vertex_loss}\")\n",
    "\n",
    "        # setting network back to training mode\n",
    "        net.train()\n",
    "'''\n",
    "pass"
   ]
  },
  {
   "cell_type": "code",
   "execution_count": null,
   "id": "5fc6c988",
   "metadata": {},
   "outputs": [],
   "source": [
    "train_transforms = [t.Translate(), \n",
    "                    t.SphereNormalization(), \n",
    "                    t.Initialization(),\n",
    "                    t.RandomRotate(180, 0),\n",
    "                    t.RandomRotate(180, 1),\n",
    "                    t.RandomRotate(180, 2),\n",
    "                    t.GaussianNoise()]\n",
    "\n",
    "t_dataset = SHREC2022Primitives(path, \n",
    "                                train=True, \n",
    "                                valid=False, \n",
    "                                valid_split=0.2, \n",
    "                                category=\"plane\")\n"
   ]
  },
  {
   "cell_type": "code",
   "execution_count": null,
   "id": "c2032c96",
   "metadata": {},
   "outputs": [],
   "source": [
    "import open3d as o3d\n",
    "\n",
    "def makeO3Dpc(points):\n",
    "    pcd = o3d.geometry.PointCloud()\n",
    "    pcd.points = o3d.utility.Vector3dVector(points.numpy())\n",
    "    return pcd\n",
    "\n",
    "def visualize_pointcloud(pcd):\n",
    "    if not isinstance(pcd, o3d.geometry.PointCloud):\n",
    "        pcd = makeO3Dpc(pcd)\n",
    "    o3d.visualization.draw_geometries([pcd])"
   ]
  },
  {
   "cell_type": "code",
   "execution_count": null,
   "id": "44631820",
   "metadata": {},
   "outputs": [],
   "source": [
    "ini_sample = t_dataset[0]\n",
    "#visualize_pointcloud(ini_sample['x'])"
   ]
  },
  {
   "cell_type": "code",
   "execution_count": null,
   "id": "9f5f2180",
   "metadata": {},
   "outputs": [],
   "source": [
    "from copy import copy\n",
    "sample = copy(ini_sample)\n",
    "sample = train_transforms[2](sample)\n",
    "sample = train_transforms[3](sample)\n",
    "sample = train_transforms[4](sample)\n",
    "sample = train_transforms[5](sample)\n",
    "\n",
    "print((sample['x']-ini_sample['x']).sum())\n",
    "\n",
    "#visualize_pointcloud(sample['x'])"
   ]
  },
  {
   "cell_type": "code",
   "execution_count": null,
   "id": "926b5054",
   "metadata": {},
   "outputs": [],
   "source": [
    "print(sample['inverse_rotation'])\n",
    "sample['x'] = (sample['inverse_rotation'].unsqueeze(0) @ sample['x'].unsqueeze(-1)).squeeze(-1)\n",
    "print(sample['x'].shape)\n",
    "#visualize_pointcloud(sample['x'].squeeze(0).cpu().detach())\n",
    "print((sample['x'] - ini_sample['x']).sum())"
   ]
  },
  {
   "cell_type": "code",
   "execution_count": null,
   "id": "75bc2c36",
   "metadata": {},
   "outputs": [],
   "source": []
  }
 ],
 "metadata": {
  "interpreter": {
   "hash": "b6c2dec4bbf77c09193d7602271711a5cc1ce866b52e710bc0ceb900b29ba2ee"
  },
  "kernelspec": {
   "display_name": "Python 3.8.12 64-bit ('vvrenv': conda)",
   "language": "python",
   "name": "python3812jvsc74a57bd0b6c2dec4bbf77c09193d7602271711a5cc1ce866b52e710bc0ceb900b29ba2ee"
  },
  "language_info": {
   "codemirror_mode": {
    "name": "ipython",
    "version": 3
   },
   "file_extension": ".py",
   "mimetype": "text/x-python",
   "name": "python",
   "nbconvert_exporter": "python",
   "pygments_lexer": "ipython3",
   "version": "3.8.12"
  }
 },
 "nbformat": 4,
 "nbformat_minor": 5
}
