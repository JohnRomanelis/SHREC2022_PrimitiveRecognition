{
 "cells": [
  {
   "cell_type": "code",
   "execution_count": 1,
   "id": "93cbe413",
   "metadata": {},
   "outputs": [],
   "source": [
    "# imports\n",
    "from dataset import SHREC2022Primitives\n",
    "from networks import MinkowskiFCNN\n",
    "import transforms as t\n",
    "from losses import CylinderLoss\n",
    "import MinkowskiEngine as ME\n",
    "\n",
    "import torch\n",
    "from torch.utils.data import DataLoader\n",
    "from tqdm import tqdm\n",
    "import os\n",
    "from utils import minkowski_collate, create_input_batch\n",
    "\n",
    "import geomfitty\n",
    "from geomfitty import geom3d\n",
    "from geomfitty import plot\n",
    "from geomfitty import fit3d\n",
    "# configuration & hyperparameters\n",
    "path = \"/home/ioannis/Desktop/programming/data/SHREC/SHREC2022/dataset\"\n",
    "batch_size = 1\n",
    "lr=1e-3\n",
    "num_epochs = 100\n",
    "eval_step = 1000000000\n",
    "regression_targets = 7\n",
    "\n",
    "checkpoint_path = \"/home/ioannis/Desktop/programming/phd/SHREC/SHREC2022/checkpoints\"\n",
    "checkpoint_file = os.path.join(checkpoint_path, \"cylinder_100.pth\")"
   ]
  },
  {
   "cell_type": "code",
   "execution_count": 2,
   "id": "410217e8",
   "metadata": {},
   "outputs": [
    {
     "name": "stdout",
     "output_type": "stream",
     "text": [
      "Creating a new train-validation split.\n",
      "Specified split already exists. Using the existing one.\n"
     ]
    }
   ],
   "source": [
    "# Dataset and dataloader\n",
    "train_transforms = [t.KeepInitialPoints(),\n",
    "                    t.Translate(), \n",
    "                    t.SphereNormalization(), \n",
    "                    t.Initialization(),\n",
    "                    t.RandomRotate(180, 0),\n",
    "                    t.RandomRotate(180, 1),\n",
    "                    t.RandomRotate(180, 2),\n",
    "                    t.GaussianNoise(),\n",
    "                    t.GetMean()]\n",
    "\n",
    "valid_transforms = [t.KeepInitialPoints(),\n",
    "                    t.Translate(), \n",
    "                    t.SphereNormalization(),\n",
    "                    t.GetMean()]\n",
    "\n",
    "t_dataset = SHREC2022Primitives(path, \n",
    "                                train=True, \n",
    "                                valid=False, \n",
    "                                valid_split=0.2, \n",
    "                                transform=train_transforms,\n",
    "                                category=\"cylinder\")\n",
    "\n",
    "train_loader = DataLoader(t_dataset, \n",
    "                          batch_size=batch_size, \n",
    "                          shuffle=True, \n",
    "                          collate_fn=minkowski_collate, \n",
    "                         num_workers=8)\n",
    "\n",
    "v_dataset = SHREC2022Primitives(path, \n",
    "                                train=True, \n",
    "                                valid=True, \n",
    "                                valid_split=0.2, \n",
    "                                transform=valid_transforms,\n",
    "                                category=\"cylinder\")\n",
    "\n",
    "valid_loader = DataLoader(v_dataset, \n",
    "                          batch_size=batch_size, \n",
    "                          shuffle=False, \n",
    "                          collate_fn=minkowski_collate, \n",
    "                          num_workers=8)"
   ]
  },
  {
   "cell_type": "code",
   "execution_count": 3,
   "id": "6870bd25",
   "metadata": {},
   "outputs": [
    {
     "name": "stdout",
     "output_type": "stream",
     "text": [
      "Using device: cuda:0\n"
     ]
    }
   ],
   "source": [
    "# network and device\n",
    "device = torch.device('cuda:0' if torch.cuda.is_available() else 'cpu')\n",
    "print(f\"Using device: {device}\")\n",
    "\n",
    "net = MinkowskiFCNN(in_channel = 3, out_channel = regression_targets).to(device)\n",
    "net.load_state_dict(torch.load(checkpoint_file))\n",
    "net.eval()\n",
    "# to use the \"transform_cylinder_outputs\" method\n",
    "l = CylinderLoss()"
   ]
  },
  {
   "cell_type": "code",
   "execution_count": 4,
   "id": "af9eedb2",
   "metadata": {},
   "outputs": [
    {
     "ename": "KeyboardInterrupt",
     "evalue": "",
     "output_type": "error",
     "traceback": [
      "\u001b[0;31m---------------------------------------------------------------------------\u001b[0m",
      "\u001b[0;31mKeyboardInterrupt\u001b[0m                         Traceback (most recent call last)",
      "\u001b[0;32m<ipython-input-4-22d36a945960>\u001b[0m in \u001b[0;36m<module>\u001b[0;34m\u001b[0m\n\u001b[1;32m     14\u001b[0m     \u001b[0mcylinder\u001b[0m \u001b[0;34m=\u001b[0m \u001b[0mgeom3d\u001b[0m\u001b[0;34m.\u001b[0m\u001b[0mCylinder\u001b[0m\u001b[0;34m(\u001b[0m\u001b[0mvertex\u001b[0m\u001b[0;34m,\u001b[0m \u001b[0maxis\u001b[0m\u001b[0;34m,\u001b[0m \u001b[0mr\u001b[0m\u001b[0;34m)\u001b[0m\u001b[0;34m\u001b[0m\u001b[0;34m\u001b[0m\u001b[0m\n\u001b[1;32m     15\u001b[0m     \u001b[0;31m#cylinder = fit3d.cylinder_fit(points, initial_guess = initial_guess)\u001b[0m\u001b[0;34m\u001b[0m\u001b[0;34m\u001b[0m\u001b[0;34m\u001b[0m\u001b[0m\n\u001b[0;32m---> 16\u001b[0;31m     \u001b[0mplot\u001b[0m\u001b[0;34m.\u001b[0m\u001b[0mplot\u001b[0m\u001b[0;34m(\u001b[0m\u001b[0;34m[\u001b[0m\u001b[0mpoints\u001b[0m\u001b[0;34m,\u001b[0m \u001b[0mcylinder\u001b[0m\u001b[0;34m]\u001b[0m\u001b[0;34m)\u001b[0m\u001b[0;34m\u001b[0m\u001b[0;34m\u001b[0m\u001b[0m\n\u001b[0m",
      "\u001b[0;32m~/Desktop/programming/phd/SHREC/geomfitty/geomfitty/plot.py\u001b[0m in \u001b[0;36mplot\u001b[0;34m(geometries_or_points, display_coordinate_frame)\u001b[0m\n\u001b[1;32m    118\u001b[0m     \u001b[0;32mif\u001b[0m \u001b[0mdisplay_coordinate_frame\u001b[0m\u001b[0;34m:\u001b[0m\u001b[0;34m\u001b[0m\u001b[0;34m\u001b[0m\u001b[0m\n\u001b[1;32m    119\u001b[0m         \u001b[0mgeometries\u001b[0m\u001b[0;34m.\u001b[0m\u001b[0mappend\u001b[0m\u001b[0;34m(\u001b[0m\u001b[0mo3d\u001b[0m\u001b[0;34m.\u001b[0m\u001b[0mgeometry\u001b[0m\u001b[0;34m.\u001b[0m\u001b[0mTriangleMesh\u001b[0m\u001b[0;34m.\u001b[0m\u001b[0mcreate_coordinate_frame\u001b[0m\u001b[0;34m(\u001b[0m\u001b[0;34m)\u001b[0m\u001b[0;34m)\u001b[0m\u001b[0;34m\u001b[0m\u001b[0;34m\u001b[0m\u001b[0m\n\u001b[0;32m--> 120\u001b[0;31m     \u001b[0mo3d\u001b[0m\u001b[0;34m.\u001b[0m\u001b[0mvisualization\u001b[0m\u001b[0;34m.\u001b[0m\u001b[0mdraw_geometries\u001b[0m\u001b[0;34m(\u001b[0m\u001b[0mgeometries\u001b[0m\u001b[0;34m)\u001b[0m\u001b[0;34m\u001b[0m\u001b[0;34m\u001b[0m\u001b[0m\n\u001b[0m",
      "\u001b[0;31mKeyboardInterrupt\u001b[0m: "
     ]
    }
   ],
   "source": [
    "for sample in valid_loader:\n",
    "    minknet_input = create_input_batch(\n",
    "            sample, \n",
    "            device=device,\n",
    "            quantization_size=0.05\n",
    "        )\n",
    "\n",
    "    pred = net(minknet_input)\n",
    "    r, axis, vertex = l.transform_cylinder_outputs(pred, sample['trans'])\n",
    "    r = r.detach().cpu().squeeze().numpy()\n",
    "    axis   = axis.detach().cpu().squeeze().numpy()\n",
    "    vertex = vertex.detach().cpu().squeeze().numpy()\n",
    "    points = sample['initial_points'][0].numpy()\n",
    "    cylinder = geom3d.Cylinder(vertex, axis, r)\n",
    "    #cylinder = fit3d.cylinder_fit(points, initial_guess = initial_guess)\n",
    "    plot.plot([points, cylinder])"
   ]
  }
 ],
 "metadata": {
  "kernelspec": {
   "display_name": "Python 3.8.12 64-bit ('vvrenv': conda)",
   "language": "python",
   "name": "python3812jvsc74a57bd0b6c2dec4bbf77c09193d7602271711a5cc1ce866b52e710bc0ceb900b29ba2ee"
  },
  "language_info": {
   "codemirror_mode": {
    "name": "ipython",
    "version": 3
   },
   "file_extension": ".py",
   "mimetype": "text/x-python",
   "name": "python",
   "nbconvert_exporter": "python",
   "pygments_lexer": "ipython3",
   "version": "3.8.12"
  }
 },
 "nbformat": 4,
 "nbformat_minor": 5
}
