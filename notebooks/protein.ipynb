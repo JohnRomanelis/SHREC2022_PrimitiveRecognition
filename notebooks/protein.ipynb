{
 "cells": [
  {
   "cell_type": "code",
   "execution_count": 1,
   "id": "a3afe93a",
   "metadata": {},
   "outputs": [],
   "source": [
    "path = \"/home/ioannis/Desktop/programming/data/SHREC/SHREC2020_protein/training\""
   ]
  },
  {
   "cell_type": "code",
   "execution_count": 2,
   "id": "318cbfb3",
   "metadata": {},
   "outputs": [],
   "source": [
    "import torch\n",
    "from torch.utils.data import Dataset, DataLoader\n",
    "import open3d as o3d\n",
    "import numpy as np\n",
    "import os\n",
    "import MinkowskiEngine as ME\n",
    "import torch_geometric.io as tio"
   ]
  },
  {
   "cell_type": "code",
   "execution_count": 3,
   "id": "65db084d",
   "metadata": {},
   "outputs": [],
   "source": [
    "idx = 1\n",
    "prot1_path = f\"/home/ioannis/Desktop/programming/data/SHREC/SHREC2020_protein/training/{idx}/triangulatedSurf.off\"\n",
    "prot1_gt_path = f\"/home/ioannis/Desktop/programming/data/SHREC/SHREC2020_protein/training/{idx}/vertexMap.txt\"\n",
    "mesh = o3d.io.read_triangle_mesh(prot1_path)\n",
    "mesh.compute_vertex_normals()\n",
    "vertices = np.asarray(mesh.vertices)\n",
    "with open(prot1_gt_path) as f:\n",
    "    labels = np.array(list(map(float, f.readlines())))\n",
    "colors = 0.5 * np.ones((len(labels), 3))\n",
    "colors[labels==1.0, 0] = 1.0\n",
    "mesh.vertex_colors = o3d.utility.Vector3dVector(colors)\n",
    "o3d.visualization.draw_geometries([mesh])"
   ]
  },
  {
   "cell_type": "code",
   "execution_count": 10,
   "id": "a852fc81",
   "metadata": {},
   "outputs": [],
   "source": [
    "def read_labels(path):\n",
    "    \n",
    "    with open(path) as f:\n",
    "        labels = np.array(list(map(float, f.readlines())))\n",
    "    return labels\n",
    "\n",
    "class ProteinDataset(Dataset):\n",
    "    \n",
    "    def __init__(self, path, transform=[]):\n",
    "        self._path = path\n",
    "        self._mesh_name = \"triangulatedSurf.off\"\n",
    "        self._label_name = \"vertexMap.txt\"\n",
    "        \n",
    "        self._idxs = os.listdir(path)\n",
    "        \n",
    "        self.transform = transform\n",
    "        \n",
    "    def __len__(self):\n",
    "        return len(self._idxs)\n",
    "    \n",
    "    def __getitem__(self, idx):\n",
    "        \n",
    "        # counting starts from 1 (not zero)\n",
    "        idx = self._idxs[idx]\n",
    "        \n",
    "        # configuring paths\n",
    "        parent_folder = os.path.join(self._path, str(idx))\n",
    "        mesh_path = os.path.join(parent_folder, self._mesh_name)\n",
    "        label_path = os.path.join(parent_folder, self._label_name)\n",
    "        \n",
    "        # read mesh\n",
    "        mesh = o3d.io.read_triangle_mesh(mesh_path)\n",
    "        vertices = np.asarray(mesh.vertices)\n",
    "        labels = read_labels(label_path)\n",
    "        \n",
    "        sample = {\n",
    "            'x' : vertices,\n",
    "            'y' : labels\n",
    "        }\n",
    "            \n",
    "        for t in self.transform:\n",
    "            sample = t(sample)\n",
    "            \n",
    "        return sample"
   ]
  },
  {
   "cell_type": "code",
   "execution_count": 21,
   "id": "b0a8da7e",
   "metadata": {},
   "outputs": [],
   "source": [
    "import numpy as np\n",
    "class Normalize():\n",
    "    \n",
    "    def __call__(self, d):\n",
    "        \n",
    "        verts = d['x']\n",
    "        l = np.sqrt((verts * verts).sum(-1)).max()\n",
    "        \n",
    "        d['x'] /= l\n",
    "        \n",
    "        return d\n",
    "        \n",
    "from torchsparse.utils.quantize import sparse_quantize\n",
    "\n",
    "class Quantize():\n",
    "    \n",
    "    def __init__(self, voxel_size = 0.05):\n",
    "        \n",
    "        self.voxel_size = voxel_size\n",
    "        \n",
    "    def __call__(self, d):\n",
    "        \n",
    "        points = d['x']\n",
    "        \n",
    "        labels = d['y']\n",
    "        \n",
    "        coordinates, indices = sparse_quantize(points, voxel_size=self.voxel_size, return_index=True)\n",
    "\n",
    "        points = points[indices]\n",
    "        labels = labels[indices]\n",
    "        \n",
    "        return {'coords':coordinates, 'x':points, 'y':labels}\n",
    "        "
   ]
  },
  {
   "cell_type": "code",
   "execution_count": 22,
   "id": "2dce0d15",
   "metadata": {},
   "outputs": [],
   "source": [
    "def minkowski_collate(list_data):\n",
    "    coordinates, features, labels = ME.utils.sparse_collate(\n",
    "        [d['coords'] for d in list_data],\n",
    "        [d['x'] for d in list_data],\n",
    "        [d['y'] for d in list_data],\n",
    "        dtype = torch.float32\n",
    "    )\n",
    "    \n",
    "    return {\n",
    "        \"coordinates\": coordinates, \n",
    "        \"features\"   : features,\n",
    "        \"labels\"     : labels\n",
    "    }"
   ]
  },
  {
   "cell_type": "code",
   "execution_count": 48,
   "id": "a624cd3c",
   "metadata": {},
   "outputs": [],
   "source": [
    "dataset = ProteinDataset(path, transform=[Normalize(), Quantize(0.001)] )"
   ]
  },
  {
   "cell_type": "code",
   "execution_count": 50,
   "id": "03d1c519",
   "metadata": {},
   "outputs": [],
   "source": [
    "for i in range(10):\n",
    "    s = dataset[i]\n",
    "    points = s[\"x\"]\n",
    "    labels = s[\"y\"]\n",
    "    pcd = o3d.geometry.PointCloud()\n",
    "    pcd.points = o3d.utility.Vector3dVector(points)\n",
    "    color = 0.5 * np.ones((len(points), 3))\n",
    "    color[labels == 1, 0] = 1\n",
    "    pcd.colors = o3d.utility.Vector3dVector(color)\n",
    "    o3d.visualization.draw_geometries([pcd])"
   ]
  },
  {
   "cell_type": "code",
   "execution_count": null,
   "id": "c25fc4f9",
   "metadata": {},
   "outputs": [],
   "source": []
  },
  {
   "cell_type": "code",
   "execution_count": null,
   "id": "b074c08e",
   "metadata": {},
   "outputs": [],
   "source": []
  },
  {
   "cell_type": "code",
   "execution_count": null,
   "id": "0f3641ef",
   "metadata": {},
   "outputs": [],
   "source": []
  },
  {
   "cell_type": "code",
   "execution_count": null,
   "id": "627f1462",
   "metadata": {},
   "outputs": [],
   "source": []
  },
  {
   "cell_type": "code",
   "execution_count": null,
   "id": "9c267bbc",
   "metadata": {},
   "outputs": [],
   "source": []
  }
 ],
 "metadata": {
  "kernelspec": {
   "display_name": "Python 3.8.12 64-bit ('vvrenv': conda)",
   "language": "python",
   "name": "python3812jvsc74a57bd0b6c2dec4bbf77c09193d7602271711a5cc1ce866b52e710bc0ceb900b29ba2ee"
  },
  "language_info": {
   "codemirror_mode": {
    "name": "ipython",
    "version": 3
   },
   "file_extension": ".py",
   "mimetype": "text/x-python",
   "name": "python",
   "nbconvert_exporter": "python",
   "pygments_lexer": "ipython3",
   "version": "3.8.12"
  }
 },
 "nbformat": 4,
 "nbformat_minor": 5
}
