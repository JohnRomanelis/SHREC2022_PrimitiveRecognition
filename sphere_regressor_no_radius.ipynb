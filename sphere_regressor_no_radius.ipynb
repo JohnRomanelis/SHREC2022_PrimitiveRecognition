{
 "cells": [
  {
   "cell_type": "code",
   "execution_count": 1,
   "id": "ff881106",
   "metadata": {},
   "outputs": [
    {
     "name": "stdout",
     "output_type": "stream",
     "text": [
      "Using Device: cuda\n"
     ]
    }
   ],
   "source": [
    "#imports\n",
    "import torch\n",
    "from torch.utils.data import DataLoader\n",
    "import MinkowskiEngine as ME\n",
    "from tqdm import tqdm\n",
    "import os\n",
    "import time\n",
    "\n",
    "import transforms as t\n",
    "from dataset import SHREC2022Primitives\n",
    "from networks import MinkowskiFCNN\n",
    "from utils import minkowski_collate, create_input_batch \n",
    "import losses\n",
    "\n",
    "# configuring paths for data and checkpoints\n",
    "#data_path = \"/home/beastmaster/Desktop/Eleftheria/shrec/dataset/\" \n",
    "data_path = \"/home/ioannis/Desktop/programming/data/SHREC/SHREC2022/dataset\"\n",
    "#checkpoint_path = \"/home/beastmaster/Desktop/vlassisgiannis/SHREC2022_PrimitiveRecognition-regressors/checkpoints\"\n",
    "checkpoint_path = \"/home/ioannis/Desktop/programming/phd/SHREC/SHREC2022/checkpoints\"\n",
    "\n",
    "cls_checkpoint = os.path.join(checkpoint_path, \"classification.pth\")\n",
    "plane_checkpoint = os.path.join(checkpoint_path,\"plane.pth\")\n",
    "sphere_checkpoint = os.path.join(checkpoint_path,\"sphere_no_radius.pth\")\n",
    "cylinder_checkpoint = os.path.join(checkpoint_path,\"cylinder.pth\")\n",
    "cone_checkpoint = os.path.join(checkpoint_path,\"cone.pth\")\n",
    "torus_checkpoint = os.path.join(checkpoint_path,\"torus.pth\")\n",
    "\n",
    "# General Parameters\n",
    "valid_split=0.15\n",
    "\n",
    "\n",
    "# Initializing transforms\n",
    "# (will use the same augmentation for all networks and tasks)\n",
    "train_transforms = [t.KeepInitialPoints(),\n",
    "                    t.Translate(), \n",
    "                    t.SphereNormalization(), \n",
    "                    t.Initialization(),\n",
    "                    t.RandomRotate(180, 0),\n",
    "                    t.RandomRotate(180, 1),\n",
    "                    t.RandomRotate(180, 2),\n",
    "                    t.GaussianNoise(),\n",
    "                    t.GetMean()]\n",
    "\n",
    "valid_transforms = [t.KeepInitialPoints(),\n",
    "                    t.Translate(), \n",
    "                    t.SphereNormalization(),\n",
    "                    t.GetMean()]\n",
    "\n",
    "\n",
    "# device\n",
    "device = torch.device(\"cuda\" if torch.cuda.is_available() else \"cpu\")\n",
    "cpu_device = torch.device(\"cpu\")\n",
    "print(f\"Using Device: {device}\")"
   ]
  },
  {
   "cell_type": "code",
   "execution_count": 2,
   "id": "f21285f7",
   "metadata": {},
   "outputs": [
    {
     "name": "stdout",
     "output_type": "stream",
     "text": [
      "Dataset path:  /home/ioannis/Desktop/programming/data/SHREC/SHREC2022/dataset/training\n",
      "Creating a new train-validation split.\n",
      "Dataset path:  /home/ioannis/Desktop/programming/data/SHREC/SHREC2022/dataset/training\n",
      "Specified split already exists. Using the existing one.\n"
     ]
    }
   ],
   "source": [
    "batch_size = 128\n",
    "\n",
    "# network \n",
    "sphere_net = MinkowskiFCNN(in_channel=3,   # point features\n",
    "                           out_channel=3,  # outputs only the center  \n",
    "                             ).to(device)\n",
    "\n",
    "# optimizer\n",
    "optimizer = torch.optim.Adam(sphere_net.parameters(), lr=1e-3)\n",
    "scheduler = torch.optim.lr_scheduler.StepLR(optimizer, \n",
    "                                            step_size=15,\n",
    "                                            gamma=0.5)\n",
    "\n",
    "sphere_loss = losses.SphereLoss()\n",
    "\n",
    "\n",
    "# dataset \n",
    "t_dataset = SHREC2022Primitives(data_path, \n",
    "                                train=True, \n",
    "                                valid=False, \n",
    "                                valid_split=valid_split, \n",
    "                                transform=train_transforms,\n",
    "                                category=\"sphere\")\n",
    "\n",
    "train_loader = DataLoader(t_dataset, \n",
    "                          batch_size=batch_size, \n",
    "                          shuffle=True, \n",
    "                          collate_fn=minkowski_collate, \n",
    "                          num_workers=8)\n",
    "\n",
    "v_dataset = SHREC2022Primitives(data_path, \n",
    "                                train=True, \n",
    "                                valid=True, \n",
    "                                valid_split=valid_split, \n",
    "                                transform=valid_transforms,\n",
    "                                category=\"sphere\")\n",
    "\n",
    "valid_loader = DataLoader(v_dataset, \n",
    "                          batch_size=1, \n",
    "                          shuffle=False, \n",
    "                          collate_fn=minkowski_collate, \n",
    "                          num_workers=8)"
   ]
  },
  {
   "cell_type": "code",
   "execution_count": 3,
   "id": "f5c87e9a",
   "metadata": {},
   "outputs": [
    {
     "name": "stderr",
     "output_type": "stream",
     "text": [
      "100%|██████████| 62/62 [00:20<00:00,  2.97it/s]\n"
     ]
    },
    {
     "name": "stdout",
     "output_type": "stream",
     "text": [
      " Epoch: 0 | Training: loss = 4.344136926435655\n",
      " Center loss: 4.344136926435655\n"
     ]
    },
    {
     "name": "stderr",
     "output_type": "stream",
     "text": [
      "100%|██████████| 1380/1380 [00:16<00:00, 82.92it/s]\n"
     ]
    },
    {
     "name": "stdout",
     "output_type": "stream",
     "text": [
      " ------------ | Validation: loss = 3.708247376030203\n",
      " Center loss: 2.8216318811050387 | Radius loss: 0.8866154892951392\n"
     ]
    },
    {
     "name": "stderr",
     "output_type": "stream",
     "text": [
      "100%|██████████| 62/62 [00:20<00:00,  3.08it/s]\n"
     ]
    },
    {
     "name": "stdout",
     "output_type": "stream",
     "text": [
      " Epoch: 1 | Training: loss = 1.6976697666029776\n",
      " Center loss: 1.6976697666029776\n"
     ]
    },
    {
     "name": "stderr",
     "output_type": "stream",
     "text": [
      "100%|██████████| 1380/1380 [00:16<00:00, 81.27it/s]\n"
     ]
    },
    {
     "name": "stdout",
     "output_type": "stream",
     "text": [
      " ------------ | Validation: loss = 1.4876167120180848\n",
      " Center loss: 1.0129245204997817 | Radius loss: 0.47469218981921907\n"
     ]
    },
    {
     "name": "stderr",
     "output_type": "stream",
     "text": [
      "100%|██████████| 62/62 [00:19<00:00,  3.11it/s]\n"
     ]
    },
    {
     "name": "stdout",
     "output_type": "stream",
     "text": [
      " Epoch: 2 | Training: loss = 0.9177618853507503\n",
      " Center loss: 0.9177618853507503\n"
     ]
    },
    {
     "name": "stderr",
     "output_type": "stream",
     "text": [
      "100%|██████████| 1380/1380 [00:16<00:00, 81.55it/s]\n"
     ]
    },
    {
     "name": "stdout",
     "output_type": "stream",
     "text": [
      " ------------ | Validation: loss = 0.8656669523793044\n",
      " Center loss: 0.5803250792836163 | Radius loss: 0.285341872596181\n"
     ]
    },
    {
     "name": "stderr",
     "output_type": "stream",
     "text": [
      "100%|██████████| 62/62 [00:20<00:00,  3.04it/s]\n"
     ]
    },
    {
     "name": "stdout",
     "output_type": "stream",
     "text": [
      " Epoch: 3 | Training: loss = 0.6769296892227665\n",
      " Center loss: 0.6769296892227665\n"
     ]
    },
    {
     "name": "stderr",
     "output_type": "stream",
     "text": [
      "100%|██████████| 1380/1380 [00:16<00:00, 82.09it/s]\n"
     ]
    },
    {
     "name": "stdout",
     "output_type": "stream",
     "text": [
      " ------------ | Validation: loss = 0.6489503210298279\n",
      " Center loss: 0.41662271931414 | Radius loss: 0.23232760252341367\n"
     ]
    },
    {
     "name": "stderr",
     "output_type": "stream",
     "text": [
      "100%|██████████| 62/62 [00:20<00:00,  3.05it/s]\n"
     ]
    },
    {
     "name": "stdout",
     "output_type": "stream",
     "text": [
      " Epoch: 4 | Training: loss = 0.5781110092516868\n",
      " Center loss: 0.5781110092516868\n"
     ]
    },
    {
     "name": "stderr",
     "output_type": "stream",
     "text": [
      "100%|██████████| 1380/1380 [00:16<00:00, 82.36it/s]\n"
     ]
    },
    {
     "name": "stdout",
     "output_type": "stream",
     "text": [
      " ------------ | Validation: loss = 0.6280028944687439\n",
      " Center loss: 0.4269693647360512 | Radius loss: 0.20103353105490937\n"
     ]
    },
    {
     "name": "stderr",
     "output_type": "stream",
     "text": [
      "100%|██████████| 62/62 [00:20<00:00,  3.08it/s]\n"
     ]
    },
    {
     "name": "stdout",
     "output_type": "stream",
     "text": [
      " Epoch: 5 | Training: loss = 0.527587445032212\n",
      " Center loss: 0.527587445032212\n"
     ]
    },
    {
     "name": "stderr",
     "output_type": "stream",
     "text": [
      "100%|██████████| 1380/1380 [00:16<00:00, 82.44it/s]\n"
     ]
    },
    {
     "name": "stdout",
     "output_type": "stream",
     "text": [
      " ------------ | Validation: loss = 0.46300049423194994\n",
      " Center loss: 0.29729395146176735 | Radius loss: 0.165706543138753\n"
     ]
    },
    {
     "name": "stderr",
     "output_type": "stream",
     "text": [
      "100%|██████████| 62/62 [00:20<00:00,  3.06it/s]\n"
     ]
    },
    {
     "name": "stdout",
     "output_type": "stream",
     "text": [
      " Epoch: 6 | Training: loss = 0.4683287984901859\n",
      " Center loss: 0.4683287984901859\n"
     ]
    },
    {
     "name": "stderr",
     "output_type": "stream",
     "text": [
      "100%|██████████| 1380/1380 [00:16<00:00, 82.93it/s]\n"
     ]
    },
    {
     "name": "stdout",
     "output_type": "stream",
     "text": [
      " ------------ | Validation: loss = 0.37122424631043166\n",
      " Center loss: 0.2447197255658967 | Radius loss: 0.1265045212136322\n"
     ]
    },
    {
     "name": "stderr",
     "output_type": "stream",
     "text": [
      "100%|██████████| 62/62 [00:20<00:00,  3.09it/s]\n"
     ]
    },
    {
     "name": "stdout",
     "output_type": "stream",
     "text": [
      " Epoch: 7 | Training: loss = 0.45651137348144283\n",
      " Center loss: 0.45651137348144283\n"
     ]
    },
    {
     "name": "stderr",
     "output_type": "stream",
     "text": [
      "100%|██████████| 1380/1380 [00:16<00:00, 81.39it/s]\n"
     ]
    },
    {
     "name": "stdout",
     "output_type": "stream",
     "text": [
      " ------------ | Validation: loss = 0.5427719432931475\n",
      " Center loss: 0.3814562640442223 | Radius loss: 0.1613156810553449\n"
     ]
    },
    {
     "name": "stderr",
     "output_type": "stream",
     "text": [
      "100%|██████████| 62/62 [00:20<00:00,  3.04it/s]\n"
     ]
    },
    {
     "name": "stdout",
     "output_type": "stream",
     "text": [
      " Epoch: 8 | Training: loss = 0.4108755944236632\n",
      " Center loss: 0.4108755944236632\n"
     ]
    },
    {
     "name": "stderr",
     "output_type": "stream",
     "text": [
      "100%|██████████| 1380/1380 [00:16<00:00, 81.41it/s]\n"
     ]
    },
    {
     "name": "stdout",
     "output_type": "stream",
     "text": [
      " ------------ | Validation: loss = 0.3331965047200936\n",
      " Center loss: 0.22108755589655155 | Radius loss: 0.11210894796941526\n"
     ]
    },
    {
     "name": "stderr",
     "output_type": "stream",
     "text": [
      "100%|██████████| 62/62 [00:20<00:00,  3.07it/s]\n"
     ]
    },
    {
     "name": "stdout",
     "output_type": "stream",
     "text": [
      " Epoch: 9 | Training: loss = 0.3654829720335622\n",
      " Center loss: 0.3654829720335622\n"
     ]
    },
    {
     "name": "stderr",
     "output_type": "stream",
     "text": [
      "100%|██████████| 1380/1380 [00:17<00:00, 80.64it/s]\n"
     ]
    },
    {
     "name": "stdout",
     "output_type": "stream",
     "text": [
      " ------------ | Validation: loss = 0.3796958041161934\n",
      " Center loss: 0.2542892497487259 | Radius loss: 0.12540655416331722\n"
     ]
    },
    {
     "name": "stderr",
     "output_type": "stream",
     "text": [
      "100%|██████████| 62/62 [00:20<00:00,  3.08it/s]\n"
     ]
    },
    {
     "name": "stdout",
     "output_type": "stream",
     "text": [
      " Epoch: 10 | Training: loss = 0.4039816498275726\n",
      " Center loss: 0.4039816498275726\n"
     ]
    },
    {
     "name": "stderr",
     "output_type": "stream",
     "text": [
      "100%|██████████| 1380/1380 [00:16<00:00, 81.57it/s]\n"
     ]
    },
    {
     "name": "stdout",
     "output_type": "stream",
     "text": [
      " ------------ | Validation: loss = 0.3231291612116721\n",
      " Center loss: 0.22074040094370687 | Radius loss: 0.10238876075314586\n"
     ]
    },
    {
     "name": "stderr",
     "output_type": "stream",
     "text": [
      "100%|██████████| 62/62 [00:20<00:00,  3.03it/s]\n"
     ]
    },
    {
     "name": "stdout",
     "output_type": "stream",
     "text": [
      " Epoch: 11 | Training: loss = 0.3892193217912028\n",
      " Center loss: 0.3892193217912028\n"
     ]
    },
    {
     "name": "stderr",
     "output_type": "stream",
     "text": [
      "100%|██████████| 1380/1380 [00:16<00:00, 81.78it/s]\n"
     ]
    },
    {
     "name": "stdout",
     "output_type": "stream",
     "text": [
      " ------------ | Validation: loss = 0.44550663264783813\n",
      " Center loss: 0.327149935173878 | Radius loss: 0.11835669743400268\n"
     ]
    },
    {
     "name": "stderr",
     "output_type": "stream",
     "text": [
      "100%|██████████| 62/62 [00:20<00:00,  3.05it/s]\n"
     ]
    },
    {
     "name": "stdout",
     "output_type": "stream",
     "text": [
      " Epoch: 12 | Training: loss = 0.3420115824668638\n",
      " Center loss: 0.3420115824668638\n"
     ]
    },
    {
     "name": "stderr",
     "output_type": "stream",
     "text": [
      "100%|██████████| 1380/1380 [00:16<00:00, 81.93it/s]\n"
     ]
    },
    {
     "name": "stdout",
     "output_type": "stream",
     "text": [
      " ------------ | Validation: loss = 0.3261685825015656\n",
      " Center loss: 0.21643177553668846 | Radius loss: 0.10973680742786243\n"
     ]
    },
    {
     "name": "stderr",
     "output_type": "stream",
     "text": [
      "100%|██████████| 62/62 [00:19<00:00,  3.12it/s]\n"
     ]
    },
    {
     "name": "stdout",
     "output_type": "stream",
     "text": [
      " Epoch: 13 | Training: loss = 0.31160681814916674\n",
      " Center loss: 0.31160681814916674\n"
     ]
    },
    {
     "name": "stderr",
     "output_type": "stream",
     "text": [
      "100%|██████████| 1380/1380 [00:16<00:00, 82.04it/s]\n"
     ]
    },
    {
     "name": "stdout",
     "output_type": "stream",
     "text": [
      " ------------ | Validation: loss = 0.36680217998476017\n",
      " Center loss: 0.25259227230710457 | Radius loss: 0.1142099071766364\n"
     ]
    },
    {
     "name": "stderr",
     "output_type": "stream",
     "text": [
      "100%|██████████| 62/62 [00:20<00:00,  2.96it/s]\n"
     ]
    },
    {
     "name": "stdout",
     "output_type": "stream",
     "text": [
      " Epoch: 14 | Training: loss = 0.3548576154055134\n",
      " Center loss: 0.3548576154055134\n"
     ]
    },
    {
     "name": "stderr",
     "output_type": "stream",
     "text": [
      "100%|██████████| 1380/1380 [00:17<00:00, 77.43it/s]\n"
     ]
    },
    {
     "name": "stdout",
     "output_type": "stream",
     "text": [
      " ------------ | Validation: loss = 0.3016896654477392\n",
      " Center loss: 0.19321500268777764 | Radius loss: 0.10847466083866987\n"
     ]
    },
    {
     "name": "stderr",
     "output_type": "stream",
     "text": [
      "100%|██████████| 62/62 [00:20<00:00,  3.01it/s]\n"
     ]
    },
    {
     "name": "stdout",
     "output_type": "stream",
     "text": [
      " Epoch: 15 | Training: loss = 0.2811548467124662\n",
      " Center loss: 0.2811548467124662\n"
     ]
    },
    {
     "name": "stderr",
     "output_type": "stream",
     "text": [
      "100%|██████████| 1380/1380 [00:16<00:00, 81.81it/s]\n"
     ]
    },
    {
     "name": "stdout",
     "output_type": "stream",
     "text": [
      " ------------ | Validation: loss = 0.2469463705646205\n",
      " Center loss: 0.16454969608032802 | Radius loss: 0.08239667332337089\n"
     ]
    },
    {
     "name": "stderr",
     "output_type": "stream",
     "text": [
      "100%|██████████| 62/62 [00:20<00:00,  3.04it/s]\n"
     ]
    },
    {
     "name": "stdout",
     "output_type": "stream",
     "text": [
      " Epoch: 16 | Training: loss = 0.25824080647960784\n",
      " Center loss: 0.25824080647960784\n"
     ]
    },
    {
     "name": "stderr",
     "output_type": "stream",
     "text": [
      "100%|██████████| 1380/1380 [00:17<00:00, 79.95it/s]\n"
     ]
    },
    {
     "name": "stdout",
     "output_type": "stream",
     "text": [
      " ------------ | Validation: loss = 0.21377164919283223\n",
      " Center loss: 0.14151492008785008 | Radius loss: 0.07225672971872542\n"
     ]
    },
    {
     "name": "stderr",
     "output_type": "stream",
     "text": [
      "100%|██████████| 62/62 [00:21<00:00,  2.93it/s]\n"
     ]
    },
    {
     "name": "stdout",
     "output_type": "stream",
     "text": [
      " Epoch: 17 | Training: loss = 0.25938890850351703\n",
      " Center loss: 0.25938890850351703\n"
     ]
    },
    {
     "name": "stderr",
     "output_type": "stream",
     "text": [
      "100%|██████████| 1380/1380 [00:17<00:00, 79.87it/s]\n"
     ]
    },
    {
     "name": "stdout",
     "output_type": "stream",
     "text": [
      " ------------ | Validation: loss = 0.21698524227749263\n",
      " Center loss: 0.14358483391410698 | Radius loss: 0.07340040826360017\n"
     ]
    },
    {
     "name": "stderr",
     "output_type": "stream",
     "text": [
      "100%|██████████| 62/62 [00:21<00:00,  2.86it/s]\n"
     ]
    },
    {
     "name": "stdout",
     "output_type": "stream",
     "text": [
      " Epoch: 18 | Training: loss = 0.2921620208409525\n",
      " Center loss: 0.2921620208409525\n"
     ]
    },
    {
     "name": "stderr",
     "output_type": "stream",
     "text": [
      "100%|██████████| 1380/1380 [00:16<00:00, 81.47it/s]\n"
     ]
    },
    {
     "name": "stdout",
     "output_type": "stream",
     "text": [
      " ------------ | Validation: loss = 0.21217898891361825\n",
      " Center loss: 0.13908062828700496 | Radius loss: 0.07309836189931018\n"
     ]
    },
    {
     "name": "stderr",
     "output_type": "stream",
     "text": [
      "100%|██████████| 62/62 [00:20<00:00,  3.08it/s]\n"
     ]
    },
    {
     "name": "stdout",
     "output_type": "stream",
     "text": [
      " Epoch: 19 | Training: loss = 0.2462226402375006\n",
      " Center loss: 0.2462226402375006\n"
     ]
    },
    {
     "name": "stderr",
     "output_type": "stream",
     "text": [
      "100%|██████████| 1380/1380 [00:17<00:00, 80.84it/s]\n"
     ]
    },
    {
     "name": "stdout",
     "output_type": "stream",
     "text": [
      " ------------ | Validation: loss = 0.21579082637302538\n",
      " Center loss: 0.14330067261817284 | Radius loss: 0.07249015319760309\n"
     ]
    },
    {
     "name": "stderr",
     "output_type": "stream",
     "text": [
      "100%|██████████| 62/62 [00:20<00:00,  2.96it/s]\n"
     ]
    },
    {
     "name": "stdout",
     "output_type": "stream",
     "text": [
      " Epoch: 20 | Training: loss = 0.2331562513305295\n",
      " Center loss: 0.2331562513305295\n"
     ]
    },
    {
     "name": "stderr",
     "output_type": "stream",
     "text": [
      "100%|██████████| 1380/1380 [00:18<00:00, 74.33it/s]\n"
     ]
    },
    {
     "name": "stdout",
     "output_type": "stream",
     "text": [
      " ------------ | Validation: loss = 0.18226675093243577\n",
      " Center loss: 0.12153107086053132 | Radius loss: 0.06073567969919677\n"
     ]
    },
    {
     "name": "stderr",
     "output_type": "stream",
     "text": [
      "100%|██████████| 62/62 [00:21<00:00,  2.85it/s]\n"
     ]
    },
    {
     "name": "stdout",
     "output_type": "stream",
     "text": [
      " Epoch: 21 | Training: loss = 0.23754304479206761\n",
      " Center loss: 0.23754304479206761\n"
     ]
    },
    {
     "name": "stderr",
     "output_type": "stream",
     "text": [
      "100%|██████████| 1380/1380 [00:16<00:00, 81.62it/s]\n"
     ]
    },
    {
     "name": "stdout",
     "output_type": "stream",
     "text": [
      " ------------ | Validation: loss = 0.22690292881818386\n",
      " Center loss: 0.14858248146378752 | Radius loss: 0.0783204480324783\n"
     ]
    },
    {
     "name": "stderr",
     "output_type": "stream",
     "text": [
      "100%|██████████| 62/62 [00:20<00:00,  3.04it/s]\n"
     ]
    },
    {
     "name": "stdout",
     "output_type": "stream",
     "text": [
      " Epoch: 22 | Training: loss = 0.24257434616165777\n",
      " Center loss: 0.24257434616165777\n"
     ]
    },
    {
     "name": "stderr",
     "output_type": "stream",
     "text": [
      "100%|██████████| 1380/1380 [00:16<00:00, 82.53it/s]\n"
     ]
    },
    {
     "name": "stdout",
     "output_type": "stream",
     "text": [
      " ------------ | Validation: loss = 0.19128548455664185\n",
      " Center loss: 0.1264903119188945 | Radius loss: 0.06479517160962316\n"
     ]
    },
    {
     "name": "stderr",
     "output_type": "stream",
     "text": [
      "100%|██████████| 62/62 [00:20<00:00,  3.08it/s]\n"
     ]
    },
    {
     "name": "stdout",
     "output_type": "stream",
     "text": [
      " Epoch: 23 | Training: loss = 0.2313363580934463\n",
      " Center loss: 0.2313363580934463\n"
     ]
    },
    {
     "name": "stderr",
     "output_type": "stream",
     "text": [
      "100%|██████████| 1380/1380 [00:16<00:00, 82.41it/s]\n"
     ]
    },
    {
     "name": "stdout",
     "output_type": "stream",
     "text": [
      " ------------ | Validation: loss = 0.19307430887511937\n",
      " Center loss: 0.13294474335681128 | Radius loss: 0.0601295640754155\n"
     ]
    },
    {
     "name": "stderr",
     "output_type": "stream",
     "text": [
      "100%|██████████| 62/62 [00:20<00:00,  2.97it/s]\n"
     ]
    },
    {
     "name": "stdout",
     "output_type": "stream",
     "text": [
      " Epoch: 24 | Training: loss = 0.24103133188140008\n",
      " Center loss: 0.24103133188140008\n"
     ]
    },
    {
     "name": "stderr",
     "output_type": "stream",
     "text": [
      "100%|██████████| 1380/1380 [00:16<00:00, 81.74it/s]\n"
     ]
    },
    {
     "name": "stdout",
     "output_type": "stream",
     "text": [
      " ------------ | Validation: loss = 0.22422706403773138\n",
      " Center loss: 0.15008895741019565 | Radius loss: 0.07413810675133353\n"
     ]
    },
    {
     "name": "stderr",
     "output_type": "stream",
     "text": [
      "100%|██████████| 62/62 [00:20<00:00,  3.05it/s]\n"
     ]
    },
    {
     "name": "stdout",
     "output_type": "stream",
     "text": [
      " Epoch: 25 | Training: loss = 0.24698774132036394\n",
      " Center loss: 0.24698774132036394\n"
     ]
    },
    {
     "name": "stderr",
     "output_type": "stream",
     "text": [
      "100%|██████████| 1380/1380 [00:16<00:00, 81.32it/s]\n"
     ]
    },
    {
     "name": "stdout",
     "output_type": "stream",
     "text": [
      " ------------ | Validation: loss = 0.19613405777580198\n",
      " Center loss: 0.12864248928104724 | Radius loss: 0.06749156863518539\n"
     ]
    },
    {
     "name": "stderr",
     "output_type": "stream",
     "text": [
      "100%|██████████| 62/62 [00:20<00:00,  3.01it/s]\n"
     ]
    },
    {
     "name": "stdout",
     "output_type": "stream",
     "text": [
      " Epoch: 26 | Training: loss = 0.24301684599730275\n",
      " Center loss: 0.24301684599730275\n"
     ]
    },
    {
     "name": "stderr",
     "output_type": "stream",
     "text": [
      "100%|██████████| 1380/1380 [00:17<00:00, 80.95it/s]\n"
     ]
    },
    {
     "name": "stdout",
     "output_type": "stream",
     "text": [
      " ------------ | Validation: loss = 0.1856737592654679\n",
      " Center loss: 0.12451527643783977 | Radius loss: 0.06115848261768287\n"
     ]
    },
    {
     "name": "stderr",
     "output_type": "stream",
     "text": [
      "100%|██████████| 62/62 [00:20<00:00,  3.07it/s]\n"
     ]
    },
    {
     "name": "stdout",
     "output_type": "stream",
     "text": [
      " Epoch: 27 | Training: loss = 0.22822629444060788\n",
      " Center loss: 0.22822629444060788\n"
     ]
    },
    {
     "name": "stderr",
     "output_type": "stream",
     "text": [
      "100%|██████████| 1380/1380 [00:16<00:00, 81.81it/s]\n"
     ]
    },
    {
     "name": "stdout",
     "output_type": "stream",
     "text": [
      " ------------ | Validation: loss = 0.172117325444729\n",
      " Center loss: 0.11096439871467158 | Radius loss: 0.06115292718302994\n"
     ]
    },
    {
     "name": "stderr",
     "output_type": "stream",
     "text": [
      "100%|██████████| 62/62 [00:20<00:00,  3.08it/s]\n"
     ]
    },
    {
     "name": "stdout",
     "output_type": "stream",
     "text": [
      " Epoch: 28 | Training: loss = 0.20402083329616055\n",
      " Center loss: 0.20402083329616055\n"
     ]
    },
    {
     "name": "stderr",
     "output_type": "stream",
     "text": [
      "100%|██████████| 1380/1380 [00:17<00:00, 80.65it/s]\n"
     ]
    },
    {
     "name": "stdout",
     "output_type": "stream",
     "text": [
      " ------------ | Validation: loss = 0.21837819539910214\n",
      " Center loss: 0.14339105622980836 | Radius loss: 0.07498713952152102\n"
     ]
    },
    {
     "name": "stderr",
     "output_type": "stream",
     "text": [
      "100%|██████████| 62/62 [00:20<00:00,  3.00it/s]\n"
     ]
    },
    {
     "name": "stdout",
     "output_type": "stream",
     "text": [
      " Epoch: 29 | Training: loss = 0.21699678633482225\n",
      " Center loss: 0.21699678633482225\n"
     ]
    },
    {
     "name": "stderr",
     "output_type": "stream",
     "text": [
      "100%|██████████| 1380/1380 [00:16<00:00, 81.44it/s]\n"
     ]
    },
    {
     "name": "stdout",
     "output_type": "stream",
     "text": [
      " ------------ | Validation: loss = 0.18731117697180458\n",
      " Center loss: 0.12654021531091703 | Radius loss: 0.06077096075848728\n"
     ]
    },
    {
     "name": "stderr",
     "output_type": "stream",
     "text": [
      "100%|██████████| 62/62 [00:20<00:00,  3.08it/s]\n"
     ]
    },
    {
     "name": "stdout",
     "output_type": "stream",
     "text": [
      " Epoch: 30 | Training: loss = 0.1808675016847349\n",
      " Center loss: 0.1808675016847349\n"
     ]
    },
    {
     "name": "stderr",
     "output_type": "stream",
     "text": [
      "100%|██████████| 1380/1380 [00:17<00:00, 80.95it/s]\n"
     ]
    },
    {
     "name": "stdout",
     "output_type": "stream",
     "text": [
      " ------------ | Validation: loss = 0.16111950914004727\n",
      " Center loss: 0.10542221099059344 | Radius loss: 0.05569729875668757\n"
     ]
    },
    {
     "name": "stderr",
     "output_type": "stream",
     "text": [
      "100%|██████████| 62/62 [00:20<00:00,  3.05it/s]\n"
     ]
    },
    {
     "name": "stdout",
     "output_type": "stream",
     "text": [
      " Epoch: 31 | Training: loss = 0.1794442022519727\n",
      " Center loss: 0.1794442022519727\n"
     ]
    },
    {
     "name": "stderr",
     "output_type": "stream",
     "text": [
      "100%|██████████| 1380/1380 [00:17<00:00, 78.90it/s]\n"
     ]
    },
    {
     "name": "stdout",
     "output_type": "stream",
     "text": [
      " ------------ | Validation: loss = 0.14283750575177065\n",
      " Center loss: 0.09187045906966748 | Radius loss: 0.05096704673781583\n"
     ]
    },
    {
     "name": "stderr",
     "output_type": "stream",
     "text": [
      "100%|██████████| 62/62 [00:20<00:00,  3.01it/s]\n"
     ]
    },
    {
     "name": "stdout",
     "output_type": "stream",
     "text": [
      " Epoch: 32 | Training: loss = 0.17439143167388055\n",
      " Center loss: 0.17439143167388055\n"
     ]
    },
    {
     "name": "stderr",
     "output_type": "stream",
     "text": [
      "100%|██████████| 1380/1380 [00:17<00:00, 79.27it/s]\n"
     ]
    },
    {
     "name": "stdout",
     "output_type": "stream",
     "text": [
      " ------------ | Validation: loss = 0.16062635123009808\n",
      " Center loss: 0.10816668931644097 | Radius loss: 0.052459661578625374\n"
     ]
    },
    {
     "name": "stderr",
     "output_type": "stream",
     "text": [
      "100%|██████████| 62/62 [00:20<00:00,  3.00it/s]\n"
     ]
    },
    {
     "name": "stdout",
     "output_type": "stream",
     "text": [
      " Epoch: 33 | Training: loss = 0.18861606897365663\n",
      " Center loss: 0.18861606897365663\n"
     ]
    },
    {
     "name": "stderr",
     "output_type": "stream",
     "text": [
      "100%|██████████| 1380/1380 [00:17<00:00, 81.09it/s]\n"
     ]
    },
    {
     "name": "stdout",
     "output_type": "stream",
     "text": [
      " ------------ | Validation: loss = 0.15892784573897833\n",
      " Center loss: 0.10644821821942047 | Radius loss: 0.052479627329884065\n"
     ]
    },
    {
     "name": "stderr",
     "output_type": "stream",
     "text": [
      "100%|██████████| 62/62 [00:20<00:00,  3.05it/s]\n"
     ]
    },
    {
     "name": "stdout",
     "output_type": "stream",
     "text": [
      " Epoch: 34 | Training: loss = 0.18164184725572985\n",
      " Center loss: 0.18164184725572985\n"
     ]
    },
    {
     "name": "stderr",
     "output_type": "stream",
     "text": [
      "100%|██████████| 1380/1380 [00:17<00:00, 81.03it/s]\n"
     ]
    },
    {
     "name": "stdout",
     "output_type": "stream",
     "text": [
      " ------------ | Validation: loss = 0.1625674916323012\n",
      " Center loss: 0.10845498734859153 | Radius loss: 0.054112503815786694\n"
     ]
    },
    {
     "name": "stderr",
     "output_type": "stream",
     "text": [
      "100%|██████████| 62/62 [00:20<00:00,  3.03it/s]\n"
     ]
    },
    {
     "name": "stdout",
     "output_type": "stream",
     "text": [
      " Epoch: 35 | Training: loss = 0.1985888788777013\n",
      " Center loss: 0.1985888788777013\n"
     ]
    },
    {
     "name": "stderr",
     "output_type": "stream",
     "text": [
      "100%|██████████| 1380/1380 [00:16<00:00, 81.57it/s]\n"
     ]
    },
    {
     "name": "stdout",
     "output_type": "stream",
     "text": [
      " ------------ | Validation: loss = 0.14889124278245394\n",
      " Center loss: 0.09749412418182211 | Radius loss: 0.05139711818963051\n"
     ]
    },
    {
     "name": "stderr",
     "output_type": "stream",
     "text": [
      "100%|██████████| 62/62 [00:20<00:00,  3.00it/s]\n"
     ]
    },
    {
     "name": "stdout",
     "output_type": "stream",
     "text": [
      " Epoch: 36 | Training: loss = 0.18193903240946033\n",
      " Center loss: 0.18193903240946033\n"
     ]
    },
    {
     "name": "stderr",
     "output_type": "stream",
     "text": [
      "100%|██████████| 1380/1380 [00:16<00:00, 81.79it/s]\n"
     ]
    },
    {
     "name": "stdout",
     "output_type": "stream",
     "text": [
      " ------------ | Validation: loss = 0.14186735475209983\n",
      " Center loss: 0.09516075238986388 | Radius loss: 0.04670660260793678\n"
     ]
    },
    {
     "name": "stderr",
     "output_type": "stream",
     "text": [
      "100%|██████████| 62/62 [00:20<00:00,  3.02it/s]\n"
     ]
    },
    {
     "name": "stdout",
     "output_type": "stream",
     "text": [
      " Epoch: 37 | Training: loss = 0.1823417520330798\n",
      " Center loss: 0.1823417520330798\n"
     ]
    },
    {
     "name": "stderr",
     "output_type": "stream",
     "text": [
      "100%|██████████| 1380/1380 [00:16<00:00, 81.38it/s]\n"
     ]
    },
    {
     "name": "stdout",
     "output_type": "stream",
     "text": [
      " ------------ | Validation: loss = 0.1534425443222405\n",
      " Center loss: 0.1013178328406866 | Radius loss: 0.052124712472120575\n"
     ]
    },
    {
     "name": "stderr",
     "output_type": "stream",
     "text": [
      "100%|██████████| 62/62 [00:19<00:00,  3.11it/s]\n"
     ]
    },
    {
     "name": "stdout",
     "output_type": "stream",
     "text": [
      " Epoch: 38 | Training: loss = 0.18221305250640837\n",
      " Center loss: 0.18221305250640837\n"
     ]
    },
    {
     "name": "stderr",
     "output_type": "stream",
     "text": [
      "100%|██████████| 1380/1380 [00:16<00:00, 81.22it/s]\n"
     ]
    },
    {
     "name": "stdout",
     "output_type": "stream",
     "text": [
      " ------------ | Validation: loss = 0.14485666575197104\n",
      " Center loss: 0.09311249391625018 | Radius loss: 0.05174417276609338\n"
     ]
    },
    {
     "name": "stderr",
     "output_type": "stream",
     "text": [
      "100%|██████████| 62/62 [00:20<00:00,  3.05it/s]\n"
     ]
    },
    {
     "name": "stdout",
     "output_type": "stream",
     "text": [
      " Epoch: 39 | Training: loss = 0.19248083738550062\n",
      " Center loss: 0.19248083738550062\n"
     ]
    },
    {
     "name": "stderr",
     "output_type": "stream",
     "text": [
      "100%|██████████| 1380/1380 [00:16<00:00, 82.20it/s]\n"
     ]
    },
    {
     "name": "stdout",
     "output_type": "stream",
     "text": [
      " ------------ | Validation: loss = 0.15195964509192086\n",
      " Center loss: 0.09827767510352081 | Radius loss: 0.053681970028899545\n"
     ]
    },
    {
     "name": "stderr",
     "output_type": "stream",
     "text": [
      "100%|██████████| 62/62 [00:20<00:00,  3.09it/s]\n"
     ]
    },
    {
     "name": "stdout",
     "output_type": "stream",
     "text": [
      " Epoch: 40 | Training: loss = 0.18796471133828163\n",
      " Center loss: 0.18796471133828163\n"
     ]
    },
    {
     "name": "stderr",
     "output_type": "stream",
     "text": [
      "100%|██████████| 1380/1380 [00:16<00:00, 81.82it/s]\n"
     ]
    },
    {
     "name": "stdout",
     "output_type": "stream",
     "text": [
      " ------------ | Validation: loss = 0.18220587856446493\n",
      " Center loss: 0.11999351871934882 | Radius loss: 0.06221235907719837\n"
     ]
    },
    {
     "name": "stderr",
     "output_type": "stream",
     "text": [
      "100%|██████████| 62/62 [00:20<00:00,  3.05it/s]\n"
     ]
    },
    {
     "name": "stdout",
     "output_type": "stream",
     "text": [
      " Epoch: 41 | Training: loss = 0.16402867376323668\n",
      " Center loss: 0.16402867376323668\n"
     ]
    },
    {
     "name": "stderr",
     "output_type": "stream",
     "text": [
      "100%|██████████| 1380/1380 [00:16<00:00, 81.62it/s]\n"
     ]
    },
    {
     "name": "stdout",
     "output_type": "stream",
     "text": [
      " ------------ | Validation: loss = 0.14549873058644733\n",
      " Center loss: 0.09453690989349801 | Radius loss: 0.050961820388557434\n"
     ]
    },
    {
     "name": "stderr",
     "output_type": "stream",
     "text": [
      "100%|██████████| 62/62 [00:20<00:00,  3.05it/s]\n"
     ]
    },
    {
     "name": "stdout",
     "output_type": "stream",
     "text": [
      " Epoch: 42 | Training: loss = 0.17318607818695805\n",
      " Center loss: 0.17318607818695805\n"
     ]
    },
    {
     "name": "stderr",
     "output_type": "stream",
     "text": [
      "100%|██████████| 1380/1380 [00:17<00:00, 79.58it/s]\n"
     ]
    },
    {
     "name": "stdout",
     "output_type": "stream",
     "text": [
      " ------------ | Validation: loss = 0.1403747825567932\n",
      " Center loss: 0.09244990221172422 | Radius loss: 0.047924879848904554\n"
     ]
    },
    {
     "name": "stderr",
     "output_type": "stream",
     "text": [
      "100%|██████████| 62/62 [00:20<00:00,  2.99it/s]\n"
     ]
    },
    {
     "name": "stdout",
     "output_type": "stream",
     "text": [
      " Epoch: 43 | Training: loss = 0.17244395277192515\n",
      " Center loss: 0.17244395277192515\n"
     ]
    },
    {
     "name": "stderr",
     "output_type": "stream",
     "text": [
      "100%|██████████| 1380/1380 [00:16<00:00, 82.04it/s]\n"
     ]
    },
    {
     "name": "stdout",
     "output_type": "stream",
     "text": [
      " ------------ | Validation: loss = 0.1645916599290512\n",
      " Center loss: 0.11606192438396291 | Radius loss: 0.048529735985262994\n"
     ]
    },
    {
     "name": "stderr",
     "output_type": "stream",
     "text": [
      "100%|██████████| 62/62 [00:20<00:00,  3.09it/s]\n"
     ]
    },
    {
     "name": "stdout",
     "output_type": "stream",
     "text": [
      " Epoch: 44 | Training: loss = 0.21486450563515386\n",
      " Center loss: 0.21486450563515386\n"
     ]
    },
    {
     "name": "stderr",
     "output_type": "stream",
     "text": [
      "100%|██████████| 1380/1380 [00:16<00:00, 82.04it/s]\n"
     ]
    },
    {
     "name": "stdout",
     "output_type": "stream",
     "text": [
      " ------------ | Validation: loss = 0.14318480401315078\n",
      " Center loss: 0.09333636323147178 | Radius loss: 0.04984844050099172\n"
     ]
    },
    {
     "name": "stderr",
     "output_type": "stream",
     "text": [
      "100%|██████████| 62/62 [00:20<00:00,  3.10it/s]\n"
     ]
    },
    {
     "name": "stdout",
     "output_type": "stream",
     "text": [
      " Epoch: 45 | Training: loss = 0.2074757220764314\n",
      " Center loss: 0.2074757220764314\n"
     ]
    },
    {
     "name": "stderr",
     "output_type": "stream",
     "text": [
      "100%|██████████| 1380/1380 [00:16<00:00, 82.60it/s]\n"
     ]
    },
    {
     "name": "stdout",
     "output_type": "stream",
     "text": [
      " ------------ | Validation: loss = 0.1476108130913707\n",
      " Center loss: 0.0947046434841468 | Radius loss: 0.052906169123115694\n"
     ]
    },
    {
     "name": "stderr",
     "output_type": "stream",
     "text": [
      "100%|██████████| 62/62 [00:19<00:00,  3.12it/s]\n"
     ]
    },
    {
     "name": "stdout",
     "output_type": "stream",
     "text": [
      " Epoch: 46 | Training: loss = 0.16439894779074576\n",
      " Center loss: 0.16439894779074576\n"
     ]
    },
    {
     "name": "stderr",
     "output_type": "stream",
     "text": [
      "100%|██████████| 1380/1380 [00:16<00:00, 82.28it/s]\n"
     ]
    },
    {
     "name": "stdout",
     "output_type": "stream",
     "text": [
      " ------------ | Validation: loss = 0.1418289687320741\n",
      " Center loss: 0.09118924431552486 | Radius loss: 0.050639725290416535\n"
     ]
    },
    {
     "name": "stderr",
     "output_type": "stream",
     "text": [
      "100%|██████████| 62/62 [00:19<00:00,  3.13it/s]\n"
     ]
    },
    {
     "name": "stdout",
     "output_type": "stream",
     "text": [
      " Epoch: 47 | Training: loss = 0.17771453662745415\n",
      " Center loss: 0.17771453662745415\n"
     ]
    },
    {
     "name": "stderr",
     "output_type": "stream",
     "text": [
      "100%|██████████| 1380/1380 [00:16<00:00, 81.70it/s]\n"
     ]
    },
    {
     "name": "stdout",
     "output_type": "stream",
     "text": [
      " ------------ | Validation: loss = 0.1356158153663484\n",
      " Center loss: 0.08891021118473398 | Radius loss: 0.04670560512122811\n"
     ]
    },
    {
     "name": "stderr",
     "output_type": "stream",
     "text": [
      "100%|██████████| 62/62 [00:19<00:00,  3.14it/s]\n"
     ]
    },
    {
     "name": "stdout",
     "output_type": "stream",
     "text": [
      " Epoch: 48 | Training: loss = 0.15941198025980302\n",
      " Center loss: 0.15941198025980302\n"
     ]
    },
    {
     "name": "stderr",
     "output_type": "stream",
     "text": [
      "100%|██████████| 1380/1380 [00:16<00:00, 82.68it/s]\n"
     ]
    },
    {
     "name": "stdout",
     "output_type": "stream",
     "text": [
      " ------------ | Validation: loss = 0.12948458428796006\n",
      " Center loss: 0.08258995994033615 | Radius loss: 0.04689462361074365\n"
     ]
    },
    {
     "name": "stderr",
     "output_type": "stream",
     "text": [
      "100%|██████████| 62/62 [00:20<00:00,  3.06it/s]\n"
     ]
    },
    {
     "name": "stdout",
     "output_type": "stream",
     "text": [
      " Epoch: 49 | Training: loss = 0.16474035358236683\n",
      " Center loss: 0.16474035358236683\n"
     ]
    },
    {
     "name": "stderr",
     "output_type": "stream",
     "text": [
      "100%|██████████| 1380/1380 [00:16<00:00, 81.72it/s]\n"
     ]
    },
    {
     "name": "stdout",
     "output_type": "stream",
     "text": [
      " ------------ | Validation: loss = 0.12333416168757654\n",
      " Center loss: 0.07949149486899525 | Radius loss: 0.043842667130652505\n"
     ]
    },
    {
     "name": "stderr",
     "output_type": "stream",
     "text": [
      "100%|██████████| 62/62 [00:20<00:00,  3.05it/s]\n"
     ]
    },
    {
     "name": "stdout",
     "output_type": "stream",
     "text": [
      " Epoch: 50 | Training: loss = 0.16021561730773218\n",
      " Center loss: 0.16021561730773218\n"
     ]
    },
    {
     "name": "stderr",
     "output_type": "stream",
     "text": [
      "100%|██████████| 1380/1380 [00:16<00:00, 81.21it/s]\n"
     ]
    },
    {
     "name": "stdout",
     "output_type": "stream",
     "text": [
      " ------------ | Validation: loss = 0.1262810230088439\n",
      " Center loss: 0.0805046912474991 | Radius loss: 0.04577633105532801\n"
     ]
    },
    {
     "name": "stderr",
     "output_type": "stream",
     "text": [
      "100%|██████████| 62/62 [00:20<00:00,  3.01it/s]\n"
     ]
    },
    {
     "name": "stdout",
     "output_type": "stream",
     "text": [
      " Epoch: 51 | Training: loss = 0.16078934674301454\n",
      " Center loss: 0.16078934674301454\n"
     ]
    },
    {
     "name": "stderr",
     "output_type": "stream",
     "text": [
      "100%|██████████| 1380/1380 [00:16<00:00, 82.40it/s]\n"
     ]
    },
    {
     "name": "stdout",
     "output_type": "stream",
     "text": [
      " ------------ | Validation: loss = 0.1258843200876072\n",
      " Center loss: 0.08313902245376137 | Radius loss: 0.04274529751388773\n"
     ]
    },
    {
     "name": "stderr",
     "output_type": "stream",
     "text": [
      "100%|██████████| 62/62 [00:21<00:00,  2.94it/s]\n"
     ]
    },
    {
     "name": "stdout",
     "output_type": "stream",
     "text": [
      " Epoch: 52 | Training: loss = 0.1686810603545558\n",
      " Center loss: 0.1686810603545558\n"
     ]
    },
    {
     "name": "stderr",
     "output_type": "stream",
     "text": [
      "100%|██████████| 1380/1380 [00:17<00:00, 80.15it/s]\n"
     ]
    },
    {
     "name": "stdout",
     "output_type": "stream",
     "text": [
      " ------------ | Validation: loss = 0.13646109108035423\n",
      " Center loss: 0.08637401596430552 | Radius loss: 0.050087075849817364\n"
     ]
    },
    {
     "name": "stderr",
     "output_type": "stream",
     "text": [
      "100%|██████████| 62/62 [00:19<00:00,  3.14it/s]\n"
     ]
    },
    {
     "name": "stdout",
     "output_type": "stream",
     "text": [
      " Epoch: 53 | Training: loss = 0.16639302274392498\n",
      " Center loss: 0.16639302274392498\n"
     ]
    },
    {
     "name": "stderr",
     "output_type": "stream",
     "text": [
      "100%|██████████| 1380/1380 [00:17<00:00, 80.69it/s]\n"
     ]
    },
    {
     "name": "stdout",
     "output_type": "stream",
     "text": [
      " ------------ | Validation: loss = 0.12157994508547151\n",
      " Center loss: 0.07898831123200817 | Radius loss: 0.042591632758337106\n"
     ]
    },
    {
     "name": "stderr",
     "output_type": "stream",
     "text": [
      "100%|██████████| 62/62 [00:20<00:00,  3.05it/s]\n"
     ]
    },
    {
     "name": "stdout",
     "output_type": "stream",
     "text": [
      " Epoch: 54 | Training: loss = 0.1622261330485344\n",
      " Center loss: 0.1622261330485344\n"
     ]
    },
    {
     "name": "stderr",
     "output_type": "stream",
     "text": [
      "100%|██████████| 1380/1380 [00:16<00:00, 82.69it/s]\n"
     ]
    },
    {
     "name": "stdout",
     "output_type": "stream",
     "text": [
      " ------------ | Validation: loss = 0.12966751694609452\n",
      " Center loss: 0.08430013695406556 | Radius loss: 0.04536738094986886\n"
     ]
    },
    {
     "name": "stderr",
     "output_type": "stream",
     "text": [
      "100%|██████████| 62/62 [00:20<00:00,  3.00it/s]\n"
     ]
    },
    {
     "name": "stdout",
     "output_type": "stream",
     "text": [
      " Epoch: 55 | Training: loss = 0.15110139368522552\n",
      " Center loss: 0.15110139368522552\n"
     ]
    },
    {
     "name": "stderr",
     "output_type": "stream",
     "text": [
      "100%|██████████| 1380/1380 [00:17<00:00, 78.52it/s]\n"
     ]
    },
    {
     "name": "stdout",
     "output_type": "stream",
     "text": [
      " ------------ | Validation: loss = 0.106638234338496\n",
      " Center loss: 0.06862885581997588 | Radius loss: 0.038009377397826366\n"
     ]
    },
    {
     "name": "stderr",
     "output_type": "stream",
     "text": [
      "100%|██████████| 62/62 [00:20<00:00,  2.99it/s]\n"
     ]
    },
    {
     "name": "stdout",
     "output_type": "stream",
     "text": [
      " Epoch: 56 | Training: loss = 0.14318539238264483\n",
      " Center loss: 0.14318539238264483\n"
     ]
    },
    {
     "name": "stderr",
     "output_type": "stream",
     "text": [
      "100%|██████████| 1380/1380 [00:17<00:00, 81.07it/s]\n"
     ]
    },
    {
     "name": "stdout",
     "output_type": "stream",
     "text": [
      " ------------ | Validation: loss = 0.11260048979705628\n",
      " Center loss: 0.07377256074273053 | Radius loss: 0.038827930164599275\n"
     ]
    },
    {
     "name": "stderr",
     "output_type": "stream",
     "text": [
      "100%|██████████| 62/62 [00:20<00:00,  3.02it/s]\n"
     ]
    },
    {
     "name": "stdout",
     "output_type": "stream",
     "text": [
      " Epoch: 57 | Training: loss = 0.1608919792117611\n",
      " Center loss: 0.1608919792117611\n"
     ]
    },
    {
     "name": "stderr",
     "output_type": "stream",
     "text": [
      "100%|██████████| 1380/1380 [00:17<00:00, 81.16it/s]\n"
     ]
    },
    {
     "name": "stdout",
     "output_type": "stream",
     "text": [
      " ------------ | Validation: loss = 0.11203847588997408\n",
      " Center loss: 0.07142062524489239 | Radius loss: 0.040617850630561565\n"
     ]
    },
    {
     "name": "stderr",
     "output_type": "stream",
     "text": [
      "100%|██████████| 62/62 [00:20<00:00,  3.06it/s]\n"
     ]
    },
    {
     "name": "stdout",
     "output_type": "stream",
     "text": [
      " Epoch: 58 | Training: loss = 0.15311066301599627\n",
      " Center loss: 0.15311066301599627\n"
     ]
    },
    {
     "name": "stderr",
     "output_type": "stream",
     "text": [
      "100%|██████████| 1380/1380 [00:16<00:00, 81.20it/s]\n"
     ]
    },
    {
     "name": "stdout",
     "output_type": "stream",
     "text": [
      " ------------ | Validation: loss = 0.11951522609337902\n",
      " Center loss: 0.0764533610024217 | Radius loss: 0.04306186524619595\n"
     ]
    },
    {
     "name": "stderr",
     "output_type": "stream",
     "text": [
      "100%|██████████| 62/62 [00:20<00:00,  3.06it/s]\n"
     ]
    },
    {
     "name": "stdout",
     "output_type": "stream",
     "text": [
      " Epoch: 59 | Training: loss = 0.1511319480355709\n",
      " Center loss: 0.1511319480355709\n"
     ]
    },
    {
     "name": "stderr",
     "output_type": "stream",
     "text": [
      "100%|██████████| 1380/1380 [00:16<00:00, 82.22it/s]\n"
     ]
    },
    {
     "name": "stdout",
     "output_type": "stream",
     "text": [
      " ------------ | Validation: loss = 0.1262023480752575\n",
      " Center loss: 0.08161316445003267 | Radius loss: 0.04458918283769335\n"
     ]
    },
    {
     "name": "stderr",
     "output_type": "stream",
     "text": [
      "100%|██████████| 62/62 [00:19<00:00,  3.13it/s]\n"
     ]
    },
    {
     "name": "stdout",
     "output_type": "stream",
     "text": [
      " Epoch: 60 | Training: loss = 0.16190068940481833\n",
      " Center loss: 0.16190068940481833\n"
     ]
    },
    {
     "name": "stderr",
     "output_type": "stream",
     "text": [
      "100%|██████████| 1380/1380 [00:16<00:00, 81.47it/s]\n"
     ]
    },
    {
     "name": "stdout",
     "output_type": "stream",
     "text": [
      " ------------ | Validation: loss = 0.11214861177091945\n",
      " Center loss: 0.07254690912090603 | Radius loss: 0.03960170273444251\n"
     ]
    },
    {
     "name": "stderr",
     "output_type": "stream",
     "text": [
      "100%|██████████| 62/62 [00:20<00:00,  3.06it/s]\n"
     ]
    },
    {
     "name": "stdout",
     "output_type": "stream",
     "text": [
      " Epoch: 61 | Training: loss = 0.16055025424688094\n",
      " Center loss: 0.16055025424688094\n"
     ]
    },
    {
     "name": "stderr",
     "output_type": "stream",
     "text": [
      "100%|██████████| 1380/1380 [00:16<00:00, 82.55it/s]\n"
     ]
    },
    {
     "name": "stdout",
     "output_type": "stream",
     "text": [
      " ------------ | Validation: loss = 0.1139673811816254\n",
      " Center loss: 0.07533137227839451 | Radius loss: 0.038636007722017106\n"
     ]
    },
    {
     "name": "stderr",
     "output_type": "stream",
     "text": [
      "100%|██████████| 62/62 [00:20<00:00,  3.07it/s]\n"
     ]
    },
    {
     "name": "stdout",
     "output_type": "stream",
     "text": [
      " Epoch: 62 | Training: loss = 0.1588386693789113\n",
      " Center loss: 0.1588386693789113\n"
     ]
    },
    {
     "name": "stderr",
     "output_type": "stream",
     "text": [
      "100%|██████████| 1380/1380 [00:17<00:00, 81.06it/s]\n"
     ]
    },
    {
     "name": "stdout",
     "output_type": "stream",
     "text": [
      " ------------ | Validation: loss = 0.11939593119944523\n",
      " Center loss: 0.08029579967038919 | Radius loss: 0.03910013191424041\n"
     ]
    },
    {
     "name": "stderr",
     "output_type": "stream",
     "text": [
      "100%|██████████| 62/62 [00:21<00:00,  2.83it/s]\n"
     ]
    },
    {
     "name": "stdout",
     "output_type": "stream",
     "text": [
      " Epoch: 63 | Training: loss = 0.1484850840943475\n",
      " Center loss: 0.1484850840943475\n"
     ]
    },
    {
     "name": "stderr",
     "output_type": "stream",
     "text": [
      "100%|██████████| 1380/1380 [00:17<00:00, 80.40it/s]\n"
     ]
    },
    {
     "name": "stdout",
     "output_type": "stream",
     "text": [
      " ------------ | Validation: loss = 0.1094957422515754\n",
      " Center loss: 0.07002619251141079 | Radius loss: 0.03946954990924846\n"
     ]
    },
    {
     "name": "stderr",
     "output_type": "stream",
     "text": [
      "100%|██████████| 62/62 [00:20<00:00,  3.08it/s]\n"
     ]
    },
    {
     "name": "stdout",
     "output_type": "stream",
     "text": [
      " Epoch: 64 | Training: loss = 0.1372168937758092\n",
      " Center loss: 0.1372168937758092\n"
     ]
    },
    {
     "name": "stderr",
     "output_type": "stream",
     "text": [
      "100%|██████████| 1380/1380 [00:17<00:00, 81.03it/s]\n"
     ]
    },
    {
     "name": "stdout",
     "output_type": "stream",
     "text": [
      " ------------ | Validation: loss = 0.1085442775303449\n",
      " Center loss: 0.06998324834202177 | Radius loss: 0.038561029791741065\n"
     ]
    },
    {
     "name": "stderr",
     "output_type": "stream",
     "text": [
      "100%|██████████| 62/62 [00:20<00:00,  3.09it/s]\n"
     ]
    },
    {
     "name": "stdout",
     "output_type": "stream",
     "text": [
      " Epoch: 65 | Training: loss = 0.15053429418513853\n",
      " Center loss: 0.15053429418513853\n"
     ]
    },
    {
     "name": "stderr",
     "output_type": "stream",
     "text": [
      "100%|██████████| 1380/1380 [00:16<00:00, 81.19it/s]\n"
     ]
    },
    {
     "name": "stdout",
     "output_type": "stream",
     "text": [
      " ------------ | Validation: loss = 0.1200040252466325\n",
      " Center loss: 0.07790289734060196 | Radius loss: 0.042101127755376666\n"
     ]
    },
    {
     "name": "stderr",
     "output_type": "stream",
     "text": [
      "100%|██████████| 62/62 [00:20<00:00,  3.09it/s]\n"
     ]
    },
    {
     "name": "stdout",
     "output_type": "stream",
     "text": [
      " Epoch: 66 | Training: loss = 0.14046741036638136\n",
      " Center loss: 0.14046741036638136\n"
     ]
    },
    {
     "name": "stderr",
     "output_type": "stream",
     "text": [
      "100%|██████████| 1380/1380 [00:17<00:00, 81.01it/s]\n"
     ]
    },
    {
     "name": "stdout",
     "output_type": "stream",
     "text": [
      " ------------ | Validation: loss = 0.1085297996534264\n",
      " Center loss: 0.06943831002069561 | Radius loss: 0.03909148932482994\n"
     ]
    },
    {
     "name": "stderr",
     "output_type": "stream",
     "text": [
      "100%|██████████| 62/62 [00:20<00:00,  3.03it/s]\n"
     ]
    },
    {
     "name": "stdout",
     "output_type": "stream",
     "text": [
      " Epoch: 67 | Training: loss = 0.1314806666585707\n",
      " Center loss: 0.1314806666585707\n"
     ]
    },
    {
     "name": "stderr",
     "output_type": "stream",
     "text": [
      "100%|██████████| 1380/1380 [00:16<00:00, 81.58it/s]\n"
     ]
    },
    {
     "name": "stdout",
     "output_type": "stream",
     "text": [
      " ------------ | Validation: loss = 0.119502130595414\n",
      " Center loss: 0.07565842904274388 | Radius loss: 0.04384370217355992\n"
     ]
    },
    {
     "name": "stderr",
     "output_type": "stream",
     "text": [
      "100%|██████████| 62/62 [00:20<00:00,  3.02it/s]\n"
     ]
    },
    {
     "name": "stdout",
     "output_type": "stream",
     "text": [
      " Epoch: 68 | Training: loss = 0.15385126707053953\n",
      " Center loss: 0.15385126707053953\n"
     ]
    },
    {
     "name": "stderr",
     "output_type": "stream",
     "text": [
      "100%|██████████| 1380/1380 [00:16<00:00, 81.32it/s]\n"
     ]
    },
    {
     "name": "stdout",
     "output_type": "stream",
     "text": [
      " ------------ | Validation: loss = 0.10267152650840876\n",
      " Center loss: 0.06673369458451328 | Radius loss: 0.03593783193455705\n"
     ]
    },
    {
     "name": "stderr",
     "output_type": "stream",
     "text": [
      "100%|██████████| 62/62 [00:20<00:00,  3.07it/s]\n"
     ]
    },
    {
     "name": "stdout",
     "output_type": "stream",
     "text": [
      " Epoch: 69 | Training: loss = 0.1625630320800889\n",
      " Center loss: 0.1625630320800889\n"
     ]
    },
    {
     "name": "stderr",
     "output_type": "stream",
     "text": [
      "100%|██████████| 1380/1380 [00:16<00:00, 81.73it/s]\n"
     ]
    },
    {
     "name": "stdout",
     "output_type": "stream",
     "text": [
      " ------------ | Validation: loss = 0.11318812633728975\n",
      " Center loss: 0.07458869115747065 | Radius loss: 0.03859943470027172\n"
     ]
    },
    {
     "name": "stderr",
     "output_type": "stream",
     "text": [
      "100%|██████████| 62/62 [00:20<00:00,  3.07it/s]\n"
     ]
    },
    {
     "name": "stdout",
     "output_type": "stream",
     "text": [
      " Epoch: 70 | Training: loss = 0.13866128592241195\n",
      " Center loss: 0.13866128592241195\n"
     ]
    },
    {
     "name": "stderr",
     "output_type": "stream",
     "text": [
      "100%|██████████| 1380/1380 [00:17<00:00, 80.46it/s]\n"
     ]
    },
    {
     "name": "stdout",
     "output_type": "stream",
     "text": [
      " ------------ | Validation: loss = 0.11165890744730174\n",
      " Center loss: 0.07251097511956607 | Radius loss: 0.03914793243411314\n"
     ]
    },
    {
     "name": "stderr",
     "output_type": "stream",
     "text": [
      "100%|██████████| 62/62 [00:20<00:00,  3.09it/s]\n"
     ]
    },
    {
     "name": "stdout",
     "output_type": "stream",
     "text": [
      " Epoch: 71 | Training: loss = 0.14002672811189004\n",
      " Center loss: 0.14002672811189004\n"
     ]
    },
    {
     "name": "stderr",
     "output_type": "stream",
     "text": [
      "100%|██████████| 1380/1380 [00:17<00:00, 80.31it/s]\n"
     ]
    },
    {
     "name": "stdout",
     "output_type": "stream",
     "text": [
      " ------------ | Validation: loss = 0.11268412205795028\n",
      " Center loss: 0.07267047307425367 | Radius loss: 0.0400136484820166\n"
     ]
    },
    {
     "name": "stderr",
     "output_type": "stream",
     "text": [
      "100%|██████████| 62/62 [00:20<00:00,  3.08it/s]\n"
     ]
    },
    {
     "name": "stdout",
     "output_type": "stream",
     "text": [
      " Epoch: 72 | Training: loss = 0.1345745654356095\n",
      " Center loss: 0.1345745654356095\n"
     ]
    },
    {
     "name": "stderr",
     "output_type": "stream",
     "text": [
      "100%|██████████| 1380/1380 [00:16<00:00, 81.36it/s]\n"
     ]
    },
    {
     "name": "stdout",
     "output_type": "stream",
     "text": [
      " ------------ | Validation: loss = 0.10666167393520364\n",
      " Center loss: 0.06865753540872559 | Radius loss: 0.038004138900599935\n"
     ]
    },
    {
     "name": "stderr",
     "output_type": "stream",
     "text": [
      "100%|██████████| 62/62 [00:21<00:00,  2.94it/s]\n"
     ]
    },
    {
     "name": "stdout",
     "output_type": "stream",
     "text": [
      " Epoch: 73 | Training: loss = 0.13596895481309584\n",
      " Center loss: 0.13596895481309584\n"
     ]
    },
    {
     "name": "stderr",
     "output_type": "stream",
     "text": [
      "100%|██████████| 1380/1380 [00:17<00:00, 80.53it/s]\n"
     ]
    },
    {
     "name": "stdout",
     "output_type": "stream",
     "text": [
      " ------------ | Validation: loss = 0.10630490555353311\n",
      " Center loss: 0.06926104172216319 | Radius loss: 0.03704386442563421\n"
     ]
    },
    {
     "name": "stderr",
     "output_type": "stream",
     "text": [
      "100%|██████████| 62/62 [00:20<00:00,  3.05it/s]\n"
     ]
    },
    {
     "name": "stdout",
     "output_type": "stream",
     "text": [
      " Epoch: 74 | Training: loss = 0.1337866017655019\n",
      " Center loss: 0.1337866017655019\n"
     ]
    },
    {
     "name": "stderr",
     "output_type": "stream",
     "text": [
      "100%|██████████| 1380/1380 [00:17<00:00, 81.11it/s]\n"
     ]
    },
    {
     "name": "stdout",
     "output_type": "stream",
     "text": [
      " ------------ | Validation: loss = 0.11010786765387899\n",
      " Center loss: 0.06983586329107588 | Radius loss: 0.04027200424611715\n"
     ]
    },
    {
     "name": "stderr",
     "output_type": "stream",
     "text": [
      "100%|██████████| 62/62 [00:20<00:00,  3.07it/s]\n"
     ]
    },
    {
     "name": "stdout",
     "output_type": "stream",
     "text": [
      " Epoch: 75 | Training: loss = 0.12113099064557784\n",
      " Center loss: 0.12113099064557784\n"
     ]
    },
    {
     "name": "stderr",
     "output_type": "stream",
     "text": [
      "100%|██████████| 1380/1380 [00:16<00:00, 81.89it/s]\n"
     ]
    },
    {
     "name": "stdout",
     "output_type": "stream",
     "text": [
      " ------------ | Validation: loss = 0.10831673544818077\n",
      " Center loss: 0.06855522061628964 | Radius loss: 0.039761513887691925\n"
     ]
    },
    {
     "name": "stderr",
     "output_type": "stream",
     "text": [
      "100%|██████████| 62/62 [00:20<00:00,  3.06it/s]\n"
     ]
    },
    {
     "name": "stdout",
     "output_type": "stream",
     "text": [
      " Epoch: 76 | Training: loss = 0.1286056501971137\n",
      " Center loss: 0.1286056501971137\n"
     ]
    },
    {
     "name": "stderr",
     "output_type": "stream",
     "text": [
      "100%|██████████| 1380/1380 [00:17<00:00, 80.35it/s]\n"
     ]
    },
    {
     "name": "stdout",
     "output_type": "stream",
     "text": [
      " ------------ | Validation: loss = 0.10531572943411606\n",
      " Center loss: 0.06820601073322115 | Radius loss: 0.03710971738923163\n"
     ]
    },
    {
     "name": "stderr",
     "output_type": "stream",
     "text": [
      "100%|██████████| 62/62 [00:20<00:00,  3.05it/s]\n"
     ]
    },
    {
     "name": "stdout",
     "output_type": "stream",
     "text": [
      " Epoch: 77 | Training: loss = 0.12672580333967362\n",
      " Center loss: 0.12672580333967362\n"
     ]
    },
    {
     "name": "stderr",
     "output_type": "stream",
     "text": [
      "100%|██████████| 1380/1380 [00:16<00:00, 81.99it/s]\n"
     ]
    },
    {
     "name": "stdout",
     "output_type": "stream",
     "text": [
      " ------------ | Validation: loss = 0.10385547246378206\n",
      " Center loss: 0.06607118840131106 | Radius loss: 0.03778428346307324\n"
     ]
    },
    {
     "name": "stderr",
     "output_type": "stream",
     "text": [
      "100%|██████████| 62/62 [00:20<00:00,  3.04it/s]\n"
     ]
    },
    {
     "name": "stdout",
     "output_type": "stream",
     "text": [
      " Epoch: 78 | Training: loss = 0.1303775699869279\n",
      " Center loss: 0.1303775699869279\n"
     ]
    },
    {
     "name": "stderr",
     "output_type": "stream",
     "text": [
      "100%|██████████| 1380/1380 [00:17<00:00, 80.96it/s]\n"
     ]
    },
    {
     "name": "stdout",
     "output_type": "stream",
     "text": [
      " ------------ | Validation: loss = 0.10791329453373771\n",
      " Center loss: 0.0725918463975203 | Radius loss: 0.035321447551234106\n"
     ]
    },
    {
     "name": "stderr",
     "output_type": "stream",
     "text": [
      "100%|██████████| 62/62 [00:20<00:00,  3.07it/s]\n"
     ]
    },
    {
     "name": "stdout",
     "output_type": "stream",
     "text": [
      " Epoch: 79 | Training: loss = 0.1299091947655524\n",
      " Center loss: 0.1299091947655524\n"
     ]
    },
    {
     "name": "stderr",
     "output_type": "stream",
     "text": [
      "100%|██████████| 1380/1380 [00:16<00:00, 81.22it/s]\n"
     ]
    },
    {
     "name": "stdout",
     "output_type": "stream",
     "text": [
      " ------------ | Validation: loss = 0.10212248665444297\n",
      " Center loss: 0.06637655477942894 | Radius loss: 0.035745931668063814\n"
     ]
    },
    {
     "name": "stderr",
     "output_type": "stream",
     "text": [
      "100%|██████████| 62/62 [00:20<00:00,  3.03it/s]\n"
     ]
    },
    {
     "name": "stdout",
     "output_type": "stream",
     "text": [
      " Epoch: 80 | Training: loss = 0.13969343095537154\n",
      " Center loss: 0.13969343095537154\n"
     ]
    },
    {
     "name": "stderr",
     "output_type": "stream",
     "text": [
      "100%|██████████| 1380/1380 [00:17<00:00, 80.41it/s]\n"
     ]
    },
    {
     "name": "stdout",
     "output_type": "stream",
     "text": [
      " ------------ | Validation: loss = 0.10849959916765817\n",
      " Center loss: 0.06935162469424645 | Radius loss: 0.039147973662890766\n"
     ]
    },
    {
     "name": "stderr",
     "output_type": "stream",
     "text": [
      "100%|██████████| 62/62 [00:21<00:00,  2.93it/s]\n"
     ]
    },
    {
     "name": "stdout",
     "output_type": "stream",
     "text": [
      " Epoch: 81 | Training: loss = 0.1233835419820201\n",
      " Center loss: 0.1233835419820201\n"
     ]
    },
    {
     "name": "stderr",
     "output_type": "stream",
     "text": [
      "100%|██████████| 1380/1380 [00:17<00:00, 79.63it/s]\n"
     ]
    },
    {
     "name": "stdout",
     "output_type": "stream",
     "text": [
      " ------------ | Validation: loss = 0.0937954394726715\n",
      " Center loss: 0.06096360023107411 | Radius loss: 0.032831840069099935\n"
     ]
    },
    {
     "name": "stderr",
     "output_type": "stream",
     "text": [
      "100%|██████████| 62/62 [00:20<00:00,  3.04it/s]\n"
     ]
    },
    {
     "name": "stdout",
     "output_type": "stream",
     "text": [
      " Epoch: 82 | Training: loss = 0.12661957548510644\n",
      " Center loss: 0.12661957548510644\n"
     ]
    },
    {
     "name": "stderr",
     "output_type": "stream",
     "text": [
      "100%|██████████| 1380/1380 [00:17<00:00, 79.98it/s]\n"
     ]
    },
    {
     "name": "stdout",
     "output_type": "stream",
     "text": [
      " ------------ | Validation: loss = 0.10071615663608469\n",
      " Center loss: 0.06500084557932417 | Radius loss: 0.035715310272197084\n"
     ]
    },
    {
     "name": "stderr",
     "output_type": "stream",
     "text": [
      "100%|██████████| 62/62 [00:20<00:00,  3.07it/s]\n"
     ]
    },
    {
     "name": "stdout",
     "output_type": "stream",
     "text": [
      " Epoch: 83 | Training: loss = 0.12615628732788947\n",
      " Center loss: 0.12615628732788947\n"
     ]
    },
    {
     "name": "stderr",
     "output_type": "stream",
     "text": [
      "100%|██████████| 1380/1380 [00:16<00:00, 82.11it/s]\n"
     ]
    },
    {
     "name": "stdout",
     "output_type": "stream",
     "text": [
      " ------------ | Validation: loss = 0.10799488341949325\n",
      " Center loss: 0.06962310254622961 | Radius loss: 0.03837178049203896\n"
     ]
    },
    {
     "name": "stderr",
     "output_type": "stream",
     "text": [
      "100%|██████████| 62/62 [00:19<00:00,  3.13it/s]\n"
     ]
    },
    {
     "name": "stdout",
     "output_type": "stream",
     "text": [
      " Epoch: 84 | Training: loss = 0.12250275477286308\n",
      " Center loss: 0.12250275477286308\n"
     ]
    },
    {
     "name": "stderr",
     "output_type": "stream",
     "text": [
      "100%|██████████| 1380/1380 [00:17<00:00, 81.04it/s]\n"
     ]
    },
    {
     "name": "stdout",
     "output_type": "stream",
     "text": [
      " ------------ | Validation: loss = 0.10324284046917033\n",
      " Center loss: 0.06678646021835553 | Radius loss: 0.0364563803878434\n"
     ]
    },
    {
     "name": "stderr",
     "output_type": "stream",
     "text": [
      "100%|██████████| 62/62 [00:20<00:00,  3.07it/s]\n"
     ]
    },
    {
     "name": "stdout",
     "output_type": "stream",
     "text": [
      " Epoch: 85 | Training: loss = 0.1241613072493384\n",
      " Center loss: 0.1241613072493384\n"
     ]
    },
    {
     "name": "stderr",
     "output_type": "stream",
     "text": [
      "100%|██████████| 1380/1380 [00:17<00:00, 80.42it/s]\n"
     ]
    },
    {
     "name": "stdout",
     "output_type": "stream",
     "text": [
      " ------------ | Validation: loss = 0.10177984732999112\n",
      " Center loss: 0.06493451876765217 | Radius loss: 0.036845328365177565\n"
     ]
    },
    {
     "name": "stderr",
     "output_type": "stream",
     "text": [
      "100%|██████████| 62/62 [00:20<00:00,  3.05it/s]\n"
     ]
    },
    {
     "name": "stdout",
     "output_type": "stream",
     "text": [
      " Epoch: 86 | Training: loss = 0.13294370893028476\n",
      " Center loss: 0.13294370893028476\n"
     ]
    },
    {
     "name": "stderr",
     "output_type": "stream",
     "text": [
      "100%|██████████| 1380/1380 [00:16<00:00, 81.74it/s]\n"
     ]
    },
    {
     "name": "stdout",
     "output_type": "stream",
     "text": [
      " ------------ | Validation: loss = 0.10540657703316791\n",
      " Center loss: 0.07043554754944627 | Radius loss: 0.03497102944563294\n"
     ]
    },
    {
     "name": "stderr",
     "output_type": "stream",
     "text": [
      "100%|██████████| 62/62 [00:19<00:00,  3.12it/s]\n"
     ]
    },
    {
     "name": "stdout",
     "output_type": "stream",
     "text": [
      " Epoch: 87 | Training: loss = 0.13170504702195043\n",
      " Center loss: 0.13170504702195043\n"
     ]
    },
    {
     "name": "stderr",
     "output_type": "stream",
     "text": [
      "100%|██████████| 1380/1380 [00:17<00:00, 81.08it/s]\n"
     ]
    },
    {
     "name": "stdout",
     "output_type": "stream",
     "text": [
      " ------------ | Validation: loss = 0.09970322568988788\n",
      " Center loss: 0.06410324582462583 | Radius loss: 0.03559997936813377\n"
     ]
    },
    {
     "name": "stderr",
     "output_type": "stream",
     "text": [
      "100%|██████████| 62/62 [00:20<00:00,  3.03it/s]\n"
     ]
    },
    {
     "name": "stdout",
     "output_type": "stream",
     "text": [
      " Epoch: 88 | Training: loss = 0.12307497210079624\n",
      " Center loss: 0.12307497210079624\n"
     ]
    },
    {
     "name": "stderr",
     "output_type": "stream",
     "text": [
      "100%|██████████| 1380/1380 [00:17<00:00, 80.90it/s]\n"
     ]
    },
    {
     "name": "stdout",
     "output_type": "stream",
     "text": [
      " ------------ | Validation: loss = 0.10191338548543896\n",
      " Center loss: 0.06427576348644874 | Radius loss: 0.037637622774896656\n"
     ]
    },
    {
     "name": "stderr",
     "output_type": "stream",
     "text": [
      "100%|██████████| 62/62 [00:19<00:00,  3.13it/s]\n"
     ]
    },
    {
     "name": "stdout",
     "output_type": "stream",
     "text": [
      " Epoch: 89 | Training: loss = 0.11963087488566676\n",
      " Center loss: 0.11963087488566676\n"
     ]
    },
    {
     "name": "stderr",
     "output_type": "stream",
     "text": [
      "100%|██████████| 1380/1380 [00:16<00:00, 81.70it/s]\n"
     ]
    },
    {
     "name": "stdout",
     "output_type": "stream",
     "text": [
      " ------------ | Validation: loss = 0.09558577465137086\n",
      " Center loss: 0.061068577983876764 | Radius loss: 0.034517196695849864\n"
     ]
    },
    {
     "name": "stderr",
     "output_type": "stream",
     "text": [
      "100%|██████████| 62/62 [00:20<00:00,  3.03it/s]\n"
     ]
    },
    {
     "name": "stdout",
     "output_type": "stream",
     "text": [
      " Epoch: 90 | Training: loss = 0.1255009131085488\n",
      " Center loss: 0.1255009131085488\n"
     ]
    },
    {
     "name": "stderr",
     "output_type": "stream",
     "text": [
      "100%|██████████| 1380/1380 [00:16<00:00, 82.90it/s]\n"
     ]
    },
    {
     "name": "stdout",
     "output_type": "stream",
     "text": [
      " ------------ | Validation: loss = 0.10070256594763519\n",
      " Center loss: 0.06426442548626506 | Radius loss: 0.03643814046597841\n"
     ]
    },
    {
     "name": "stderr",
     "output_type": "stream",
     "text": [
      "100%|██████████| 62/62 [00:19<00:00,  3.11it/s]\n"
     ]
    },
    {
     "name": "stdout",
     "output_type": "stream",
     "text": [
      " Epoch: 91 | Training: loss = 0.1215057774416862\n",
      " Center loss: 0.1215057774416862\n"
     ]
    },
    {
     "name": "stderr",
     "output_type": "stream",
     "text": [
      "100%|██████████| 1380/1380 [00:16<00:00, 81.69it/s]\n"
     ]
    },
    {
     "name": "stdout",
     "output_type": "stream",
     "text": [
      " ------------ | Validation: loss = 0.103330121921391\n",
      " Center loss: 0.06706988089382071 | Radius loss: 0.03626024142724581\n"
     ]
    },
    {
     "name": "stderr",
     "output_type": "stream",
     "text": [
      "100%|██████████| 62/62 [00:20<00:00,  3.07it/s]\n"
     ]
    },
    {
     "name": "stdout",
     "output_type": "stream",
     "text": [
      " Epoch: 92 | Training: loss = 0.1216806712890825\n",
      " Center loss: 0.1216806712890825\n"
     ]
    },
    {
     "name": "stderr",
     "output_type": "stream",
     "text": [
      "100%|██████████| 1380/1380 [00:16<00:00, 81.85it/s]\n"
     ]
    },
    {
     "name": "stdout",
     "output_type": "stream",
     "text": [
      " ------------ | Validation: loss = 0.09650875977013788\n",
      " Center loss: 0.06151283727481116 | Radius loss: 0.03499592229632621\n"
     ]
    },
    {
     "name": "stderr",
     "output_type": "stream",
     "text": [
      "100%|██████████| 62/62 [00:19<00:00,  3.12it/s]\n"
     ]
    },
    {
     "name": "stdout",
     "output_type": "stream",
     "text": [
      " Epoch: 93 | Training: loss = 0.1273737492099885\n",
      " Center loss: 0.1273737492099885\n"
     ]
    },
    {
     "name": "stderr",
     "output_type": "stream",
     "text": [
      "100%|██████████| 1380/1380 [00:16<00:00, 81.89it/s]\n"
     ]
    },
    {
     "name": "stdout",
     "output_type": "stream",
     "text": [
      " ------------ | Validation: loss = 0.10369852900102147\n",
      " Center loss: 0.06553991298654485 | Radius loss: 0.03815861636725624\n"
     ]
    },
    {
     "name": "stderr",
     "output_type": "stream",
     "text": [
      "100%|██████████| 62/62 [00:19<00:00,  3.10it/s]\n"
     ]
    },
    {
     "name": "stdout",
     "output_type": "stream",
     "text": [
      " Epoch: 94 | Training: loss = 0.14140330146877997\n",
      " Center loss: 0.14140330146877997\n"
     ]
    },
    {
     "name": "stderr",
     "output_type": "stream",
     "text": [
      "100%|██████████| 1380/1380 [00:16<00:00, 81.80it/s]\n"
     ]
    },
    {
     "name": "stdout",
     "output_type": "stream",
     "text": [
      " ------------ | Validation: loss = 0.10639341168555447\n",
      " Center loss: 0.07008260645198143 | Radius loss: 0.03631080603545839\n"
     ]
    },
    {
     "name": "stderr",
     "output_type": "stream",
     "text": [
      "100%|██████████| 62/62 [00:20<00:00,  3.04it/s]\n"
     ]
    },
    {
     "name": "stdout",
     "output_type": "stream",
     "text": [
      " Epoch: 95 | Training: loss = 0.1253827670889516\n",
      " Center loss: 0.1253827670889516\n"
     ]
    },
    {
     "name": "stderr",
     "output_type": "stream",
     "text": [
      "100%|██████████| 1380/1380 [00:16<00:00, 81.27it/s]\n"
     ]
    },
    {
     "name": "stdout",
     "output_type": "stream",
     "text": [
      " ------------ | Validation: loss = 0.10286658475727208\n",
      " Center loss: 0.06598037674561635 | Radius loss: 0.03688620866832893\n"
     ]
    },
    {
     "name": "stderr",
     "output_type": "stream",
     "text": [
      "100%|██████████| 62/62 [00:20<00:00,  2.95it/s]\n"
     ]
    },
    {
     "name": "stdout",
     "output_type": "stream",
     "text": [
      " Epoch: 96 | Training: loss = 0.1221843128723483\n",
      " Center loss: 0.1221843128723483\n"
     ]
    },
    {
     "name": "stderr",
     "output_type": "stream",
     "text": [
      "100%|██████████| 1380/1380 [00:16<00:00, 81.29it/s]\n"
     ]
    },
    {
     "name": "stdout",
     "output_type": "stream",
     "text": [
      " ------------ | Validation: loss = 0.0984322553017262\n",
      " Center loss: 0.061735465300304326 | Radius loss: 0.03669678986881362\n"
     ]
    },
    {
     "name": "stderr",
     "output_type": "stream",
     "text": [
      "100%|██████████| 62/62 [00:20<00:00,  3.02it/s]\n"
     ]
    },
    {
     "name": "stdout",
     "output_type": "stream",
     "text": [
      " Epoch: 97 | Training: loss = 0.13449730495772055\n",
      " Center loss: 0.13449730495772055\n"
     ]
    },
    {
     "name": "stderr",
     "output_type": "stream",
     "text": [
      "100%|██████████| 1380/1380 [00:17<00:00, 80.75it/s]\n"
     ]
    },
    {
     "name": "stdout",
     "output_type": "stream",
     "text": [
      " ------------ | Validation: loss = 0.09870327176654\n",
      " Center loss: 0.06466938687313332 | Radius loss: 0.034033885460379935\n"
     ]
    },
    {
     "name": "stderr",
     "output_type": "stream",
     "text": [
      "100%|██████████| 62/62 [00:20<00:00,  3.03it/s]\n"
     ]
    },
    {
     "name": "stdout",
     "output_type": "stream",
     "text": [
      " Epoch: 98 | Training: loss = 0.11932434862659823\n",
      " Center loss: 0.11932434862659823\n"
     ]
    },
    {
     "name": "stderr",
     "output_type": "stream",
     "text": [
      "100%|██████████| 1380/1380 [00:16<00:00, 81.67it/s]\n"
     ]
    },
    {
     "name": "stdout",
     "output_type": "stream",
     "text": [
      " ------------ | Validation: loss = 0.09649243053969732\n",
      " Center loss: 0.06111031416876885 | Radius loss: 0.03538211668665725\n"
     ]
    },
    {
     "name": "stderr",
     "output_type": "stream",
     "text": [
      "100%|██████████| 62/62 [00:21<00:00,  2.86it/s]\n"
     ]
    },
    {
     "name": "stdout",
     "output_type": "stream",
     "text": [
      " Epoch: 99 | Training: loss = 0.11889146676947994\n",
      " Center loss: 0.11889146676947994\n"
     ]
    },
    {
     "name": "stderr",
     "output_type": "stream",
     "text": [
      "100%|██████████| 1380/1380 [00:17<00:00, 79.06it/s]"
     ]
    },
    {
     "name": "stdout",
     "output_type": "stream",
     "text": [
      " ------------ | Validation: loss = 0.09633313022930688\n",
      " Center loss: 0.061373527929756984 | Radius loss: 0.034959602174916934\n"
     ]
    },
    {
     "name": "stderr",
     "output_type": "stream",
     "text": [
      "\n"
     ]
    }
   ],
   "source": [
    "num_epochs = 100\n",
    "eval_step = 1\n",
    "\n",
    "start = time.time()\n",
    "\n",
    "for epoch in range(num_epochs):\n",
    "    # for loss and accuracy tracking the training set\n",
    "    m_loss = 0\n",
    "    m_center_loss = 0\n",
    "    m_radius_loss = 0\n",
    "    \n",
    "    for batch in tqdm(train_loader):\n",
    "        \n",
    "        optimizer.zero_grad()\n",
    "        \n",
    "        # reading the data and formating them\n",
    "        labels = batch[\"labels\"].to(device)\n",
    "        gt = labels[:,1:]\n",
    "        minknet_input = create_input_batch(\n",
    "            batch, \n",
    "            device=device,\n",
    "            quantization_size=0.05\n",
    "        )\n",
    "        \n",
    "        # activating network\n",
    "        pred = sphere_net(minknet_input)       \n",
    "        \n",
    "        pred = torch.cat([torch.ones(pred.shape[0], 1, device=pred.device), pred ], dim=-1)\n",
    "        \n",
    "        # calculating losses\n",
    "        c_loss, r_loss = sphere_loss(pred, gt, batch[\"trans\"])\n",
    "        c_loss = c_loss.mean(0)\n",
    "                \n",
    "        loss = c_loss\n",
    "        \n",
    "        loss.backward()\n",
    "        optimizer.step()\n",
    "        \n",
    "        m_center_loss += c_loss.item()\n",
    "        m_loss += loss.item()\n",
    "    \n",
    "    # stepping the scheduler\n",
    "    scheduler.step()\n",
    "    \n",
    "    m_loss /= len(train_loader)\n",
    "    m_center_loss /= len(train_loader)\n",
    "    \n",
    "    print(f\" Epoch: {epoch} | Training: loss = {m_loss}\")\n",
    "    print(f\" Center loss: {m_center_loss}\")\n",
    "\n",
    "    \n",
    "    # validation\n",
    "    if (epoch+1)%eval_step == 0:\n",
    "        sphere_net.eval()\n",
    "        with torch.no_grad():\n",
    "            m_loss = 0\n",
    "            m_center_loss = 0\n",
    "            m_radius_loss = 0\n",
    "\n",
    "            for batch in tqdm(valid_loader):\n",
    "                \n",
    "                transformed_points = torch.clone(batch['features']).to(device)\n",
    "                \n",
    "                # reading the data and formating them\n",
    "                labels = batch[\"labels\"].to(device)\n",
    "                gt = labels[:,1:]\n",
    "                minknet_input = create_input_batch(\n",
    "                    batch, \n",
    "                    device=device,\n",
    "                    quantization_size=0.05\n",
    "                )\n",
    "\n",
    "                # activating network\n",
    "                pred = sphere_net(minknet_input)       \n",
    "                \n",
    "                \n",
    "                radius = transformed_points - pred\n",
    "                radius = (radius * radius).sum(-1).sqrt().mean(0)\n",
    "                \n",
    "                #print(radius.shape)\n",
    "                #print(radius.unsqueeze(-1).shape)\n",
    "                \n",
    "                pred = torch.cat([radius.unsqueeze(-1).unsqueeze(-1), pred], dim=-1)\n",
    "                \n",
    "                # calculating losses\n",
    "                c_loss, r_loss = sphere_loss(pred, gt, batch[\"trans\"])\n",
    "                c_loss = c_loss.mean(0)\n",
    "                r_loss = r_loss.mean(0)\n",
    "\n",
    "                loss = r_loss + c_loss\n",
    "\n",
    "                m_center_loss += c_loss.item()\n",
    "                m_radius_loss += r_loss.item()\n",
    "                m_loss += loss.item()\n",
    "\n",
    "            m_loss        /= len(valid_loader)\n",
    "            m_center_loss /= len(valid_loader)\n",
    "            m_radius_loss /= len(valid_loader)\n",
    "\n",
    "            print(f\" ------------ | Validation: loss = {m_loss}\")\n",
    "            print(f\" Center loss: {m_center_loss} | Radius loss: {m_radius_loss}\")\n",
    "        \n",
    "        \n",
    "        sphere_net.train()\n",
    "        \n",
    "finish = time.time()"
   ]
  },
  {
   "cell_type": "code",
   "execution_count": 4,
   "id": "50225df6",
   "metadata": {},
   "outputs": [
    {
     "name": "stdout",
     "output_type": "stream",
     "text": [
      "Time to train sphere regressor network: 3737.816478252411 sec\n"
     ]
    }
   ],
   "source": [
    "torch.save(sphere_net.state_dict(), sphere_checkpoint)\n",
    "# sending back to cpu to free memory\n",
    "sphere_net.to(cpu_device)\n",
    "# time statistics\n",
    "print(f\"Time to train sphere regressor network: {finish - start} sec\")"
   ]
  }
 ],
 "metadata": {
  "kernelspec": {
   "display_name": "Python 3.8.12 64-bit ('vvrenv': conda)",
   "language": "python",
   "name": "python3812jvsc74a57bd0b6c2dec4bbf77c09193d7602271711a5cc1ce866b52e710bc0ceb900b29ba2ee"
  },
  "language_info": {
   "codemirror_mode": {
    "name": "ipython",
    "version": 3
   },
   "file_extension": ".py",
   "mimetype": "text/x-python",
   "name": "python",
   "nbconvert_exporter": "python",
   "pygments_lexer": "ipython3",
   "version": "3.8.12"
  }
 },
 "nbformat": 4,
 "nbformat_minor": 5
}
