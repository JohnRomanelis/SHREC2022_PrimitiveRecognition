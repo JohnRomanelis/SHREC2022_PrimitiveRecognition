{
 "cells": [
  {
   "cell_type": "markdown",
   "id": "dc6c0af7",
   "metadata": {},
   "source": [
    "## Creating a Regressor for the plane class"
   ]
  },
  {
   "cell_type": "code",
   "execution_count": null,
   "id": "6f0ec28d",
   "metadata": {},
   "outputs": [],
   "source": []
  }
 ],
 "metadata": {
  "kernelspec": {
   "display_name": "Python 3.8.12 64-bit ('vvrenv': conda)",
   "language": "python",
   "name": "python3812jvsc74a57bd0b6c2dec4bbf77c09193d7602271711a5cc1ce866b52e710bc0ceb900b29ba2ee"
  },
  "language_info": {
   "codemirror_mode": {
    "name": "ipython",
    "version": 3
   },
   "file_extension": ".py",
   "mimetype": "text/x-python",
   "name": "python",
   "nbconvert_exporter": "python",
   "pygments_lexer": "ipython3",
   "version": "3.8.12"
  }
 },
 "nbformat": 4,
 "nbformat_minor": 5
}
