{
 "cells": [
  {
   "cell_type": "markdown",
   "id": "dc6c0af7",
   "metadata": {},
   "source": [
    "## Creating a Regressor for the plane class"
   ]
  },
  {
   "cell_type": "code",
   "execution_count": 2,
   "id": "ba93f34e",
   "metadata": {},
   "outputs": [],
   "source": [
    "# imports\n",
    "from dataset import SHREC2022Primitives\n",
    "from networks import MinkowskiMR\n",
    "import transforms as t\n",
    "import losses as L\n",
    "import MinkowskiEngine as ME\n",
    "\n",
    "\n",
    "import torch\n",
    "from torch.utils.data import DataLoader\n",
    "from tqdm import tqdm\n",
    "import os"
   ]
  },
  {
   "cell_type": "code",
   "execution_count": 3,
   "id": "60ab5db8",
   "metadata": {},
   "outputs": [],
   "source": [
    "# configuration & hyperparameters\n",
    "path = \"/home/ioannis/Desktop/programming/data/SHREC/SHREC2022/dataset\"\n",
    "batch_size = 128\n",
    "lr=1e-3\n",
    "num_epochs = 20\n",
    "eval_step = 1000000000"
   ]
  },
  {
   "cell_type": "code",
   "execution_count": 11,
   "id": "fa75f9c8",
   "metadata": {},
   "outputs": [],
   "source": [
    "def minkowski_collate(list_data):\n",
    "    coordinates, features, labels = ME.utils.sparse_collate(\n",
    "        [d['x'] for d in list_data],\n",
    "        [d['x'] for d in list_data],\n",
    "        [d['y'].unsqueeze(0) for d in list_data],\n",
    "        dtype = torch.float32\n",
    "    )\n",
    "    \n",
    "    # collating other data\n",
    "    norm_factors = []\n",
    "    shifts = []\n",
    "    inv_rotations = []\n",
    "    \n",
    "    for d in list_data:\n",
    "        norm_factors.append(d['norm_factor'])\n",
    "        shifts.append(d['shift'])\n",
    "        if 'inverse_rotation' in d.keys():\n",
    "            inv_rotations.append(d['inverse_rotation'])\n",
    "    \n",
    "    norm_factors = torch.stack(norm_factors)\n",
    "    shifts = torch.stack(shifts)\n",
    "    \n",
    "    if len(inv_rotations) > 0:\n",
    "        inv_rotations = torch.stack(inv_rotations)\n",
    "    \n",
    "    return {\n",
    "        \"coordinates\"   : coordinates, \n",
    "        \"features\"      : features,\n",
    "        \"labels\"        : labels,\n",
    "        \"trans\": {\n",
    "            \"norm_factors\"  : norm_factors,\n",
    "            \"shifts\"        : shifts,\n",
    "            \"inv_rotations\" : inv_rotations if len(inv_rotations) > 0 else None\n",
    "        }\n",
    "    }"
   ]
  },
  {
   "cell_type": "code",
   "execution_count": 6,
   "id": "562ae1a4",
   "metadata": {},
   "outputs": [
    {
     "name": "stdout",
     "output_type": "stream",
     "text": [
      "Specified split already exists. Using the existing one.\n",
      "Specified split already exists. Using the existing one.\n"
     ]
    }
   ],
   "source": [
    "# Dataset and dataloader\n",
    "train_transforms = [t.Translate(), \n",
    "                    t.SphereNormalization(), \n",
    "                    t.RandomRotate(180, 0),\n",
    "                    t.RandomRotate(180, 1),\n",
    "                    t.RandomRotate(180, 2),\n",
    "                   ]#t.GaussianNoise()]\n",
    "\n",
    "valid_transforms = [t.Translate(), \n",
    "                    t.SphereNormalization()]\n",
    "\n",
    "t_dataset = SHREC2022Primitives(path, \n",
    "                                train=True, \n",
    "                                valid=False, \n",
    "                                valid_split=0.2, \n",
    "                                transform=train_transforms,\n",
    "                                category=\"all\")\n",
    "\n",
    "train_loader = DataLoader(t_dataset, \n",
    "                          batch_size=batch_size, \n",
    "                          shuffle=True, \n",
    "                          collate_fn=minkowski_collate, \n",
    "                         num_workers=8)\n",
    "\n",
    "v_dataset = SHREC2022Primitives(path, \n",
    "                                train=True, \n",
    "                                valid=True, \n",
    "                                valid_split=0.2, \n",
    "                                transform=valid_transforms,\n",
    "                                category=\"all\")\n",
    "\n",
    "valid_loader = DataLoader(v_dataset, \n",
    "                          batch_size=batch_size, \n",
    "                          shuffle=False, \n",
    "                          collate_fn=minkowski_collate, \n",
    "                          num_workers=8)\n"
   ]
  },
  {
   "cell_type": "code",
   "execution_count": 7,
   "id": "3552643a",
   "metadata": {},
   "outputs": [
    {
     "name": "stdout",
     "output_type": "stream",
     "text": [
      "Using device: cuda:0\n"
     ]
    }
   ],
   "source": [
    "# network and device\n",
    "device = torch.device('cuda:0' if torch.cuda.is_available() else 'cpu')\n",
    "print(f\"Using device: {device}\")\n",
    "\n",
    "net = net = MinkowskiMR(in_channel = 3, out_channel = 6).to(device)"
   ]
  },
  {
   "cell_type": "code",
   "execution_count": 8,
   "id": "b266f538",
   "metadata": {},
   "outputs": [],
   "source": [
    "def create_input_batch(batch, device=\"cuda\", quantization_size=0.05):\n",
    "    batch[\"coordinates\"][:, 1:] = batch[\"coordinates\"][:, 1:] / quantization_size\n",
    "    return ME.TensorField(\n",
    "        coordinates=batch[\"coordinates\"],\n",
    "        features=batch[\"features\"],\n",
    "        device=device\n",
    "    )"
   ]
  },
  {
   "cell_type": "code",
   "execution_count": 9,
   "id": "86361d14",
   "metadata": {},
   "outputs": [],
   "source": [
    "# optimizer and losses\n",
    "optimizer = torch.optim.Adam(net.parameters(), lr=lr)\n",
    "cls_criterion = torch.nn.CrossEntropyLoss()\n",
    "plane_criterion = L.PlaneLoss()\n",
    "cylinder_criterion = L.CylinderLoss()\n",
    "cone_criterion = L.ConeLoss()\n",
    "sphere_criterion = L.SphereLoss()\n",
    "torus_criterion = L.TorusLoss()\n",
    "\n",
    "criteria = [plane_criterion, cylinder_criterion, cone_criterion, sphere_criterion, torus_criterion]"
   ]
  },
  {
   "cell_type": "code",
   "execution_count": 1,
   "id": "b4dba2a1",
   "metadata": {},
   "outputs": [
    {
     "ename": "NameError",
     "evalue": "name 'num_epochs' is not defined",
     "output_type": "error",
     "traceback": [
      "\u001b[0;31m---------------------------------------------------------------------------\u001b[0m",
      "\u001b[0;31mNameError\u001b[0m                                 Traceback (most recent call last)",
      "\u001b[0;32m<ipython-input-1-68e5d2c56a4b>\u001b[0m in \u001b[0;36m<module>\u001b[0;34m\u001b[0m\n\u001b[1;32m      1\u001b[0m \u001b[0;31m# Training loop\u001b[0m\u001b[0;34m\u001b[0m\u001b[0;34m\u001b[0m\u001b[0;34m\u001b[0m\u001b[0m\n\u001b[1;32m      2\u001b[0m \u001b[0;34m\u001b[0m\u001b[0m\n\u001b[0;32m----> 3\u001b[0;31m \u001b[0;32mfor\u001b[0m \u001b[0mepoch\u001b[0m \u001b[0;32min\u001b[0m \u001b[0mrange\u001b[0m\u001b[0;34m(\u001b[0m\u001b[0mnum_epochs\u001b[0m\u001b[0;34m)\u001b[0m\u001b[0;34m:\u001b[0m\u001b[0;34m\u001b[0m\u001b[0;34m\u001b[0m\u001b[0m\n\u001b[0m\u001b[1;32m      4\u001b[0m     \u001b[0;31m# for loss and accuracy tracking the training set\u001b[0m\u001b[0;34m\u001b[0m\u001b[0;34m\u001b[0m\u001b[0;34m\u001b[0m\u001b[0m\n\u001b[1;32m      5\u001b[0m     \u001b[0mm_loss\u001b[0m \u001b[0;34m=\u001b[0m \u001b[0;36m0\u001b[0m\u001b[0;34m\u001b[0m\u001b[0;34m\u001b[0m\u001b[0m\n",
      "\u001b[0;31mNameError\u001b[0m: name 'num_epochs' is not defined"
     ]
    }
   ],
   "source": [
    "# Training loop\n",
    "\n",
    "for epoch in range(num_epochs):\n",
    "    # for loss and accuracy tracking the training set\n",
    "    m_loss = 0\n",
    "    \n",
    "    for batch in tqdm(train_loader):\n",
    "\n",
    "        optimizer.zero_grad()\n",
    "\n",
    "        labels = batch[\"labels\"].to(device)\n",
    "        classes = labels[:,0]\n",
    "        gt = labels[:,1:]\n",
    "\n",
    "        minknet_input = create_input_batch(\n",
    "            batch, \n",
    "            device=device,\n",
    "            quantization_size=0.05\n",
    "        )\n",
    "\n",
    "        cls, plane, cyl, cone, sphere, torus = net(minknet_input)\n",
    "\n",
    "        cls_loss = cls_criterion(cls, classes)\n",
    "        plane_losses = plane_criterion(plane, gt, batch[\"trans\"])\n",
    "        cylinder_losses = cylinder_criterion(cyl, gt, batch[\"trans\"])\n",
    "        cone_losses = cone_criterion(cone, gt, batch[\"trans\"])\n",
    "        sphere_losses = sphere_criterion(sphere, gt, batch[\"trans\"])\n",
    "        torus_losses = torus_criterion(torus, gt, batch[\"trans\"])\n",
    "\n",
    "        #B x 5 tensor containing all losses computed for all primitives\n",
    "        losses = torch.stack([plane_losses, cylinder_losses, cone_losses, sphere_losses, torus_losses]).permute(1,0)\n",
    "\n",
    "        #Picking out the corresponding loss for each primitive via its class\n",
    "        #B x 1\n",
    "        classes = classes.unsqueeze(-1).long()\n",
    "        loss = torch.gather(losses, 1, classes).mean() + cls_loss\n",
    "\n",
    "        loss.backward()\n",
    "        optimizer.step()\n",
    "        \n",
    "        m_loss += loss.item()\n",
    "\n",
    "    m_loss /= len(train_loader)\n",
    "    \n",
    "    print(f\" Epoch: {epoch} | Training: loss = {m_loss}\")\n",
    "    \n",
    "    # if (epoch+1) % eval_step == 0:\n",
    "    #     m_loss = 0\n",
    "    #     m_normal_loss = 0\n",
    "    #     m_vertex_loss = 0\n",
    "    #     net.eval()\n",
    "    #     with torch.no_grad():\n",
    "    #         for batch in tqdm(valid_loader):\n",
    "\n",
    "    #             labels = batch[\"labels\"].to(device)\n",
    "    #             actual_normal = labels[:,1:4]\n",
    "    #             actual_vertex = labels[:,4:7]\n",
    "    #             batch_size = labels.shape[0]\n",
    "                \n",
    "    #             net_in = create_input_batch(\n",
    "    #                 batch, \n",
    "    #                 device=device, \n",
    "    #                 quantization_size=0.05\n",
    "    #             )\n",
    "\n",
    "    #             pred = net(net_in)\n",
    "              \n",
    "    #             pred_normal, pred_vertex = transform_outputs(pred, \n",
    "    #                                                  batch[\"norm_factors\"], \n",
    "    #                                                  batch[\"shifts\"], \n",
    "    #                                                  batch[\"inv_rotations\"])\n",
    "\n",
    "    #             normal_loss = criterion.AxisToAxisLoss(pred_normal, actual_normal)\n",
    "    #             vertex_loss = criterion.PointToPlaneLoss(pred_vertex, actual_vertex, actual_normal)\n",
    "        \n",
    "    #             loss = normal_loss + vertex_loss\n",
    "          \n",
    "    #             m_normal_loss += normal_loss.item()\n",
    "    #             m_vertex_loss += vertex_loss.item()\n",
    "    #             m_loss += loss.item()\n",
    "                \n",
    "    #         m_loss /= len(valid_loader)\n",
    "    #         m_normal_loss /= len(valid_loader)\n",
    "    #         m_vertex_loss /= len(valid_loader)\n",
    "\n",
    "    #         print(f\" --------->  Evaluation: loss = {m_loss}\")\n",
    "    #         print(f\" Normal loss: {m_normal_loss} | Vertex_loss: {m_vertex_loss}\")\n",
    "\n",
    "    #     # setting network back to training mode\n",
    "    #     net.train()\n",
    "\n",
    "print(\"Done!\")"
   ]
  },
  {
   "cell_type": "code",
   "execution_count": null,
   "id": "5fc6c988",
   "metadata": {},
   "outputs": [],
   "source": []
  }
 ],
 "metadata": {
  "interpreter": {
   "hash": "b6c2dec4bbf77c09193d7602271711a5cc1ce866b52e710bc0ceb900b29ba2ee"
  },
  "kernelspec": {
   "display_name": "Python 3.8.12 64-bit ('vvrenv': conda)",
   "language": "python",
   "name": "python3"
  },
  "language_info": {
   "codemirror_mode": {
    "name": "ipython",
    "version": 3
   },
   "file_extension": ".py",
   "mimetype": "text/x-python",
   "name": "python",
   "nbconvert_exporter": "python",
   "pygments_lexer": "ipython3",
   "version": "3.8.12"
  }
 },
 "nbformat": 4,
 "nbformat_minor": 5
}
